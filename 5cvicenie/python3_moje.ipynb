{
 "cells": [
  {
   "cell_type": "markdown",
   "metadata": {},
   "source": [
    "## Príkazy\n",
    "\n",
    "### Odsadzovanie kódu\n",
    "\n",
    "Odsadzovanie kódu medzerami, alebo tabulátorom na začiatku riadku je v Pythone veľmi dôležité, pretože definuje ako sú príkazy do seba vnorené a spojené do blokov. Napr. nasledujúci kód skončí chybou `IndentationError: expected an indented block:`"
   ]
  },
  {
   "cell_type": "code",
   "execution_count": 1,
   "metadata": {},
   "outputs": [
    {
     "ename": "IndentationError",
     "evalue": "expected an indented block (<ipython-input-1-8d132e90b21c>, line 3)",
     "output_type": "error",
     "traceback": [
      "\u001b[1;36m  File \u001b[1;32m\"<ipython-input-1-8d132e90b21c>\"\u001b[1;36m, line \u001b[1;32m3\u001b[0m\n\u001b[1;33m    print(\"negative value\") # chyba! vnorené príkazy musia byť odsadené na novom riadku aspoň jednou medzerou alebo tabulátorom\u001b[0m\n\u001b[1;37m        ^\u001b[0m\n\u001b[1;31mIndentationError\u001b[0m\u001b[1;31m:\u001b[0m expected an indented block\n"
     ]
    }
   ],
   "source": [
    "number = 42\n",
    "if number < 0:\n",
    "print(\"negative value\") # chyba! vnorené príkazy musia byť odsadené na novom riadku aspoň jednou medzerou alebo tabulátorom"
   ]
  },
  {
   "cell_type": "markdown",
   "metadata": {},
   "source": [
    "Interpreter očakáva za podmienkou príkazu `if` aspoň jeden ďalší príkaz, ktorý sa vykoná ak je podmienka splnená. Keďže príkaz `print('negative value')` nie je na začiatku riadku odsadený žiadnou medzerou alebo tabulátorom, Interpreter ho považuje za príkaz, ktorý by mal nasledovať za `if`, a príkaz `if` bude považovať za neukončený. Podobne, nasledujúci kód je logicky chybný keďže sa správa `negative number, reset to 0` vypíše aj pre nezáporné čísla. Aby bol príkaz `print` vykonaný iba pri splnení podmienky, musí byť odsadený do rovnakého bloku ako `number = 0`."
   ]
  },
  {
   "cell_type": "code",
   "execution_count": 2,
   "metadata": {},
   "outputs": [
    {
     "name": "stdout",
     "output_type": "stream",
     "text": [
      "negative number, reset to 0\n"
     ]
    }
   ],
   "source": [
    "number = 42\n",
    "if number < 0:\n",
    "    number = 0\n",
    "print(\"negative number, reset to 0\") # logická chyba! ak sa má správa vypísať iba pre záporné čísla,\n",
    "                                     # musí byť príkaz rovnako odsadený ako number = 0"
   ]
  },
  {
   "cell_type": "code",
   "execution_count": 4,
   "metadata": {},
   "outputs": [
    {
     "ename": "IndentationError",
     "evalue": "unindent does not match any outer indentation level (<tokenize>, line 3)",
     "output_type": "error",
     "traceback": [
      "\u001b[1;36m  File \u001b[1;32m\"<tokenize>\"\u001b[1;36m, line \u001b[1;32m3\u001b[0m\n\u001b[1;33m    print \"negative number, reset to 0\" # chyba! odsadenie musí byť rovnaké pre všetky príkazy v jednom bloku\u001b[0m\n\u001b[1;37m    ^\u001b[0m\n\u001b[1;31mIndentationError\u001b[0m\u001b[1;31m:\u001b[0m unindent does not match any outer indentation level\n"
     ]
    }
   ],
   "source": [
    "if number < 0:\n",
    "    number = 0\n",
    "  print \"negative number, reset to 0\" # chyba! odsadenie musí byť rovnaké pre všetky príkazy v jednom bloku"
   ]
  },
  {
   "cell_type": "markdown",
   "metadata": {},
   "source": [
    "### Vetvenia\n",
    "\n",
    "Vetvenia slúžia na vykonávanie postupnosti (bloku) príkazov iba pri splnení určitej podmienky."
   ]
  },
  {
   "cell_type": "code",
   "execution_count": 5,
   "metadata": {},
   "outputs": [
    {
     "name": "stdout",
     "output_type": "stream",
     "text": [
      "zero or positive\n"
     ]
    }
   ],
   "source": [
    "number = 42 ###tento je chybny kod\n",
    "# podmienkou príkazu if môže byť ľubovoľný výraz, ktorý sa vyhodnotí ako Boolovská hodnota\n",
    "# môžete napr. používať operátory <, >, <=, >=, ==, !=, ‘in’ (testovanie či objekt obsahuje daný prvok) a\n",
    "# kombinovať ich logickými spojkami and, or, not\n",
    "if number < 0:\n",
    "    print(\"negative\")\n",
    "    number = 0 # podmienený blok môže obsahovať viacero príkazov, ktoré musia byť správne odsadené\n",
    "    ##v tomto pripade ak cislo je mensie ako 0 vypise negative a nastavi cislo na nulu\n",
    "else: # vetva ‘else’ je nepovinná\n",
    "    print(\"zero or positive\")\n",
    "# = zero or positive"
   ]
  },
  {
   "cell_type": "markdown",
   "metadata": {},
   "source": [
    "Viacero podmienok môžete zreťaziť klauzulou `elif` (zreťazenie cez `elif` nahradzuje v Pythone príkaz `switch/case` z jazyka C)"
   ]
  },
  {
   "cell_type": "code",
   "execution_count": 6,
   "metadata": {},
   "outputs": [
    {
     "name": "stdout",
     "output_type": "stream",
     "text": [
      "more\n"
     ]
    }
   ],
   "source": [
    "if number < 0:\n",
    "    number = 0 #aj nastavim tu hodnotu na nulu-resetujem ju, aj vypise spravu. Mohli by tu byt vnorene aj dalsie podmienky\n",
    "    print(\"negative number, reset to 0\")\n",
    "elif number == 0:\n",
    "    print(\"zero\")\n",
    "elif number == 1:\n",
    "    print(\"single\")\n",
    "else:\n",
    "    print(\"more\")\n",
    "# = more"
   ]
  },
  {
   "cell_type": "markdown",
   "metadata": {},
   "source": [
    "Pre jednoduché podmienené priradenie môžete použiť skrátený zápis podobný ternárnemu príkazu z C `?:`\n",
    "Hodnota1 `if podmienka else hodnota2` - výraz sa rovná `hodnota1` ak je podmienka splnená, alebo `hodnota2` ak je nesplnená."
   ]
  },
  {
   "cell_type": "code",
   "execution_count": 7,
   "metadata": {},
   "outputs": [
    {
     "data": {
      "text/plain": [
       "'positive or zero'"
      ]
     },
     "execution_count": 7,
     "metadata": {},
     "output_type": "execute_result"
    }
   ],
   "source": [
    "result = \"negative\" if number < 0 else \"positive or zero\"\n",
    "result # = positive or zero"
   ]
  },
  {
   "cell_type": "code",
   "execution_count": null,
   "metadata": {},
   "outputs": [],
   "source": [
    "#naprilad takyto zapis:\n",
    "##x=5\n",
    "##if x>0:\n",
    "   # y=1\n",
    "##else: \n",
    "   # y=2   \n",
    "#by som skratene mohla napisat takto:\n",
    "##y = 1 if x > 0 else 2\n",
    "   "
   ]
  },
  {
   "cell_type": "markdown",
   "metadata": {},
   "source": [
    "##ROZDIEL MEDZY VETVENIM A CYKLOM\n",
    "##Vetvenia znamenaju: vykonaj kod iba za urcitej podmienky, inak ho nevykonaj\n",
    "##Cykly znamenaju: vykonaj kod velakrat za sebou, napriklad: kym je splnena nejaka podmienka, tak vykonaj kod"
   ]
  },
  {
   "cell_type": "markdown",
   "metadata": {},
   "source": [
    "### Cykly\n",
    "\n",
    "Cykly slúžia na opakované vykonávanie bloku príkazov. Python podporuje cyklus `while`, ktorý vykonáva vnorený blok príkazov, pokiaľ je splnená zadaná podmienka; a cyklus `for`, ktorý slúži na postupné spracovanie prvkov (iterovanie) v kolekcii objektov (napr. zoznamov)."
   ]
  },
  {
   "cell_type": "code",
   "execution_count": 13,
   "metadata": {},
   "outputs": [
    {
     "name": "stdout",
     "output_type": "stream",
     "text": [
      "0\n",
      "1\n",
      "2\n",
      "3\n",
      "4\n",
      "5\n",
      "6\n",
      "7\n",
      "8\n",
      "9\n",
      "And once more but differently ...\n",
      "5\n",
      "4\n",
      "3\n",
      "2\n",
      "1\n"
     ]
    }
   ],
   "source": [
    "i = 0 ##premennu i budmeme pouzivat ako index\n",
    "while i < 10: # cyklus `while` vykonáva vnorený blok príkazov pokiaľ je podmienka splnená.\n",
    "    print(i)\n",
    "    i += 1    # skrátený zápis i = i + 1 (Python nepodporuje operátor ++/-- z jazyka C)\n",
    "    \n",
    "print(\"And once more but differently ...\")\n",
    "i = 5\n",
    "while i > 0:\n",
    "    print(i)\n",
    "    i -= 1    # skrátený zápis i = i - 1 "
   ]
  },
  {
   "cell_type": "code",
   "execution_count": 68,
   "metadata": {},
   "outputs": [
    {
     "name": "stdout",
     "output_type": "stream",
     "text": [
      "1\n",
      "2\n",
      "3\n",
      "x=3\n"
     ]
    }
   ],
   "source": [
    "# ‘for‘ cyklus sa používa na postupné prechádzanie prvkov, zoznam-kolekcia objektov\n",
    "numbers = [1, 2, 3]\n",
    "# napr. pre zoznam, za ‘for’ definujete názov premennej, do ktorej budú postupne dosadené všetky prvky zoznamu\n",
    "for x in numbers:\n",
    "    print(x)\n",
    "\n",
    "print(\"x={0}\".format(x)) # po iterovaní je premenná definovaná aj mimo bloku cyklu a má nastavenú poslednú hodnotu"
   ]
  },
  {
   "cell_type": "code",
   "execution_count": 10,
   "metadata": {},
   "outputs": [
    {
     "name": "stdout",
     "output_type": "stream",
     "text": [
      "0 tic\n",
      "1 tac\n",
      "2 toe\n",
      "3 hihi\n"
     ]
    }
   ],
   "source": [
    "# ak chcete naraz vypísať index (i) a hodnotu (v), môžete použiť funkciu enumerate()\n",
    "### mozem si samozrejme zvolit iny nazov premennych, ale vzdy bude na prvom mieste index a na druhom mieste hodnota\n",
    "for i, v in enumerate([\"tic\", \"tac\", \"toe\",\"hihi\"]):\n",
    "    print(i, v) # do i je priradený index (od 0) a do v hodnota"
   ]
  },
  {
   "cell_type": "code",
   "execution_count": 11,
   "metadata": {},
   "outputs": [
    {
     "name": "stdout",
     "output_type": "stream",
     "text": [
      "[1, 2, 3, 1, 4, 9]\n"
     ]
    }
   ],
   "source": [
    "# ak budete počas iterovania pridávať alebo odoberať nejaké hodnoty zo zoznamu, je bezpečnejšie pre iterovanie urobiť jeho kópiu\n",
    "for x in numbers[:]:        # vytvoríme kópiu cez rozsah [:]\n",
    "    numbers.append(x * x)   # pridáme na koniec zoznamu druhé mocniny\n",
    "\n",
    "print(numbers) # = [1, 2, 3, 1, 4, 9]"
   ]
  },
  {
   "cell_type": "markdown",
   "metadata": {},
   "source": [
    "Pre jednoduché iterovanie si môžete vygenerovať postupnosť čísel pomocou funkcie `range()`, napr.:"
   ]
  },
  {
   "cell_type": "code",
   "execution_count": 23,
   "metadata": {},
   "outputs": [
    {
     "name": "stdout",
     "output_type": "stream",
     "text": [
      "0\n",
      "1\n",
      "2\n",
      "3\n",
      "4\n",
      "5\n",
      "6\n",
      "7\n",
      "8\n",
      "9\n"
     ]
    }
   ],
   "source": [
    "for x in range(10): # vygeneruje sa postupnosť [0, 1, 2, 3, 4, 5, 6, 7, 8, 9]\n",
    "    print(x)\n",
    "\n",
    "# ako argument funkcie range() môžete voliteľne zadať aj počiatočnú hodnotu, konecnu hodnotu, alebo pociatocnu, konecnu a krok\n",
    "#range(3, 7)         # = [3, 4, 5, 6] ##range mi urcuje prvy prvok a posledny prvok\n",
    "#range(10, 4, -2)    # = [10, 8, 6] - v obrátenom poradí bez poslednej hodnoty ## tu pociatocnu, koncovu a KROK (pocita po 2 spat)\n",
    "###ak by som chcela opacnu postupnost, KROK by bol -1 a slo by to po 1 naspat"
   ]
  },
  {
   "cell_type": "markdown",
   "metadata": {},
   "source": [
    "Pre prerušenie cyklu, alebo pre preskočenie kódu a pokračovanie ďalšou iteráciou sa používajú príkazy `break` a `continue`, ktoré fungujú podobne ako v jazyku C (môžete ich použiť aj v cykloch `while`)."
   ]
  },
  {
   "cell_type": "code",
   "execution_count": 26,
   "metadata": {},
   "outputs": [
    {
     "name": "stdout",
     "output_type": "stream",
     "text": [
      "1\n",
      "continue for even number\n",
      "3\n",
      "continue for even number\n"
     ]
    }
   ],
   "source": [
    "for x in range(1, 10):\n",
    "    if x % 2 == 0: ##% je zvysok po deleni - vypise teda neparne\n",
    "        print(\"continue for even number\")\n",
    "        continue    # pre párne čísla sa pokračuje nasledujúcou iteráciou a ďalšie príkazy v cykle sa preskočia\n",
    "    if x == 5:\n",
    "        break       # cyklus sa preruší pri x == 5 (pri vnorených cykloch ‘break’ preruší iba najbližší cyklus)\n",
    "    print(x)\n",
    "# vypíše sa: \n",
    "# 1\n",
    "# continue for even number\n",
    "# 3\n",
    "# continue for even number"
   ]
  },
  {
   "cell_type": "code",
   "execution_count": 70,
   "metadata": {},
   "outputs": [
    {
     "name": "stdout",
     "output_type": "stream",
     "text": [
      "0\n",
      "2\n",
      "3\n",
      "4\n",
      "5\n",
      "6\n",
      "7\n"
     ]
    }
   ],
   "source": [
    "#trochu lahsi priklad:\n",
    "for x in range (0,10):\n",
    "    if x == 1: ##preskoci cislo 1\n",
    "        continue\n",
    "    if x == 8: ##ked pride po 5 tak skonci, lebo to je dalsia podmienka\n",
    "        break\n",
    "    print(x) #0, 2, 3, 4, 5, 6, 7"
   ]
  },
  {
   "cell_type": "markdown",
   "metadata": {},
   "source": [
    "## Úlohy\n",
    "\n",
    "### Úloha 3.1\n",
    "Napíšte príkaz vetvenia, ktorý vypíše pre zadanú premennú `salary` do ktorého intervalu patrí jej hodnota: `< 1000`, `1000-3000`, `> 3000`, alebo `unknown` pre hodnotu `None`."
   ]
  },
  {
   "cell_type": "code",
   "execution_count": 32,
   "metadata": {},
   "outputs": [
    {
     "name": "stdout",
     "output_type": "stream",
     "text": [
      "unknown\n"
     ]
    }
   ],
   "source": [
    "# výraz postupne otestujte pre zadané hodnoty\n",
    "salary = 950 #<1000\n",
    "\n",
    "salary = 1350 #1000-3000\n",
    "\n",
    "salary = None #unknown\n",
    "\n",
    "salary = 3500 #>3000\n",
    "\n",
    "if salary is None: # s is je lepsie riesenie, ja som mala: if salary == None ROBI!\n",
    "    print(\"unknown\")\n",
    "elif salary < 1000:\n",
    "    print(\"<1000\")\n",
    "elif salary > 3000:\n",
    "    print(\">3000\")\n",
    "elif salary > 1000 and salary < 3000:\n",
    "    print(\"1000-3000\") \n",
    "    "
   ]
  },
  {
   "cell_type": "markdown",
   "metadata": {},
   "source": [
    "\n",
    "### Úloha 3.2\n",
    "Vygenerujte postupnosť čísel od 1 do 10 (vrátane) a vypočítajte v cykle ich priemernú hodnotu."
   ]
  },
  {
   "cell_type": "code",
   "execution_count": 73,
   "metadata": {},
   "outputs": [
    {
     "name": "stdout",
     "output_type": "stream",
     "text": [
      "5.5\n",
      "5.3636\n"
     ]
    }
   ],
   "source": [
    "sum = 0\n",
    "for x in range(1,11):\n",
    "    sum += x #sum = sum + x\n",
    "avg = sum / 10\n",
    "print (avg)\n",
    "\n",
    "#druha verzia pre vseobecny zoznam \n",
    "#row = range(1, 11) #chcem vypocitat priemernu hodnotu row = [2,4,6,7,9,10,2,3] \n",
    "row = [2,4,5,7,9,10,2,3,8,0,9] \n",
    "sum = 0\n",
    "for x in row:\n",
    "    sum += x\n",
    "avg = sum / len(row) ###len(row) je pocet v riadku\n",
    "print(\"{0:.4f}\".format(avg)) #tu sme dali na kolko desatinnych miest to ma byt"
   ]
  },
  {
   "cell_type": "markdown",
   "metadata": {},
   "source": [
    "Vygeneruj postupnost cisel 21 do 30 a vypocitaj v cykle priemernu hodnotu"
   ]
  },
  {
   "cell_type": "code",
   "execution_count": 71,
   "metadata": {},
   "outputs": [
    {
     "name": "stdout",
     "output_type": "stream",
     "text": [
      "25.5000\n"
     ]
    }
   ],
   "source": [
    "hruska = 0\n",
    "countOfNumbers=0\n",
    "for x in range(21,31):\n",
    "    hruska += x\n",
    "    countOfNumbers+=1\n",
    "avg = hruska / countOfNumbers\n",
    "print(\"{0:.4f}\".format(avg))\n",
    " "
   ]
  },
  {
   "cell_type": "markdown",
   "metadata": {},
   "source": [
    "### Úloha 3.3\n",
    "\n",
    "Pre zadaný zoznam v cykle vypočítajte, koľko prvkov má hodnotu v rozsahu od 25 do 50 (vrátane)."
   ]
  },
  {
   "cell_type": "code",
   "execution_count": 44,
   "metadata": {},
   "outputs": [
    {
     "name": "stdout",
     "output_type": "stream",
     "text": [
      "5\n"
     ]
    }
   ],
   "source": [
    "numbers = [25, 24, 26, 45, 25, 23, 50, 51]\n",
    "count = 0\n",
    "\n",
    "for x in numbers:\n",
    "    if x >= 25 and x <= 50:\n",
    "        count +=1\n",
    "print(count)\n"
   ]
  },
  {
   "cell_type": "markdown",
   "metadata": {},
   "source": [
    "### Úloha 3.4\n",
    "\n",
    "Vytvorte zoznam `filtered` do ktorého v cykle priradíte všetky hodnoty zoznamu `numbers` väčšie než 25."
   ]
  },
  {
   "cell_type": "code",
   "execution_count": 64,
   "metadata": {},
   "outputs": [
    {
     "name": "stdout",
     "output_type": "stream",
     "text": [
      "25 []\n",
      "24 []\n",
      "26 [26]\n",
      "45 [26, 45]\n",
      "25 [26, 45]\n",
      "23 [26, 45]\n",
      "50 [26, 45, 50]\n",
      "51 [26, 45, 50, 51]\n",
      "a toto je vysledok: [26, 45, 50, 51]\n"
     ]
    }
   ],
   "source": [
    "numbers = [25, 24, 26, 45, 25, 23, 50, 51]\n",
    "\n",
    "filtered = [] #urobime si prazdny zoznam, do ktoreho priradzujeme value podla podmienky\n",
    "for value in numbers:\n",
    "    if value > 25:\n",
    "        filtered.append(value)\n",
    "        \n",
    "    print(value, filtered)\n",
    "print(\"a toto je vysledok:\", (filtered))"
   ]
  },
  {
   "cell_type": "markdown",
   "metadata": {},
   "source": [
    "### Úloha 3.5\n",
    "\n",
    "Vytvorte zoznam `indexes` do ktorého v cykle priradíte indexy prvkov zoznamu `numbers`, ktoré majú hodnoty menšie než 45. Skúste úlohu riešiť najrpv pomocou cyklu `while` a potom pomocou `for`."
   ]
  },
  {
   "cell_type": "code",
   "execution_count": 97,
   "metadata": {},
   "outputs": [
    {
     "name": "stdout",
     "output_type": "stream",
     "text": [
      "[0, 1, 2, 4, 5]\n",
      "[0, 1, 2, 4, 5]\n",
      "[0, 1, 2, 4, 5]\n"
     ]
    }
   ],
   "source": [
    "numbers = [25, 24, 26, 45, 25, 23, 50, 51]\n",
    "indexes= []\n",
    "i=0\n",
    "while i < len(numbers): ###while sa vyborne hodi ak potrebujeme pristupit k indexu\n",
    "    value = numbers[i]\n",
    "    if value < 45:\n",
    "        indexes.append(i) \n",
    "    i +=1\n",
    "print(indexes)  \n",
    "\n",
    "indexes=[] ###for s enumerate\n",
    "for i, value in enumerate(numbers):\n",
    "    if value < 45:\n",
    "        indexes.append(i) \n",
    "print(indexes)\n",
    "\n",
    "indexes=[]\n",
    "\n",
    "for i in range(len(numbers)):\n",
    "    value = numbers[i]\n",
    "    if value < 45:\n",
    "        indexes.append(i)\n",
    "print(indexes)\n"
   ]
  },
  {
   "cell_type": "markdown",
   "metadata": {},
   "source": [
    "###  Úloha 3.6\n",
    "Napíšte cyklus, ktorý do premennej `index` nastaví pozíciu prvého výskytu prvku zoznamu `numbers` so zadanou hodnotou, alebo -1 ak sa taký prvok v zozname nenachádza."
   ]
  },
  {
   "cell_type": "code",
   "execution_count": 105,
   "metadata": {},
   "outputs": [
    {
     "name": "stdout",
     "output_type": "stream",
     "text": [
      "2\n"
     ]
    }
   ],
   "source": [
    "numbers = [24, 26, 25, 45, 25, 23, 50, 51]\n",
    "\n",
    "value = 25\n",
    "\n",
    "#index = None ### None by nam vypisalo v pripade, ze by sa tam prvok nenachadzal. \n",
    "index = -1 ###my vsak chceme v pripade nenachadzania sa prvku vypisat -1\n",
    "\n",
    "\n",
    "for i, v in enumerate(numbers):\n",
    "    if v == value:\n",
    "        index = i\n",
    "        break\n",
    "        \n",
    "print(index)\n",
    "        \n",
    "    \n"
   ]
  },
  {
   "cell_type": "markdown",
   "metadata": {},
   "source": [
    "### Úloha 3.7\n",
    "\n",
    "Vypočítajte priemerné hodnoty v riadkoch a v stĺpcoch nasledujúcej matice."
   ]
  },
  {
   "cell_type": "code",
   "execution_count": 37,
   "metadata": {},
   "outputs": [
    {
     "name": "stdout",
     "output_type": "stream",
     "text": [
      "Average row 2.0000\n",
      "Average row 5.0000\n",
      "Average row 8.0000\n",
      "Average row 11.0000\n",
      "2\n",
      "[1, 2, 3]\n",
      "[4, 5, 6]\n",
      "[7, 8, 9]\n",
      "[10, 11, 12]\n",
      "[1, 2, 3]\n",
      "[4, 5, 6]\n",
      "[7, 8, 9]\n",
      "[10, 11, 12]\n"
     ]
    }
   ],
   "source": [
    "##toto pozeraj v rieseniach\n",
    "matrix = [[1, 2, 3], [4, 5, 6], [7, 8, 9], [10, 11, 12]] #pri stlpcoch musime pouzit indexy\n",
    "for row in matrix:\n",
    "    sum = 0 #inicialization of variable sum\n",
    "  \n",
    "    for x in row:\n",
    "        sum += x\n",
    "    avg = sum / len(row)\n",
    "    print(\"Average row {0:.4f}\".format(avg))\n",
    "    \n",
    "num_columns = len(matrix[0]) #zatial netreba riesit = counts of items in first row, it means it is number of columns\n",
    "\n",
    "\n",
    "#pre stlpce 2 ekvivalenty\n",
    "for row in matrix:\n",
    "    print(row)\n",
    "\n",
    "for col in range(num_columns)\n",
    "    for i in range(0, len(matrix)):\n",
    "        row = matrix[i]\n",
    "        print(row)"
   ]
  },
  {
   "cell_type": "markdown",
   "metadata": {},
   "source": [
    "### Úloha 3.8\n",
    "\n",
    "Rozdeľte nasledujúci text na riadky, v cykle pre každý riadok preveďte všetky písmena na malé a vypíšte zmenené riadky na obrazovku funkciou `print`."
   ]
  },
  {
   "cell_type": "code",
   "execution_count": 2,
   "metadata": {},
   "outputs": [
    {
     "name": "stdout",
     "output_type": "stream",
     "text": [
      "bridgekeeper: hee hee heh. stop. what... is your name?\n",
      "king arthur: it is 'arthur', king of the britons.\n",
      "bridgekeeper: what... is your quest?\n",
      "king arthur: to seek the holy grail.\n",
      "bridgekeeper: what... is the air-speed velocity of an unladen swallow?\n",
      "king arthur: what do you mean? an african or european swallow?\n",
      "!!!Now show me my current rows\n",
      "['Bridgekeeper: Hee hee heh. Stop. What... is your name?', \"King Arthur: It is 'Arthur', King of the Britons.\", 'Bridgekeeper: What... is your quest?', 'King Arthur: To seek the Holy Grail.', 'Bridgekeeper: What... is the air-speed velocity of an unladen swallow?', 'King Arthur: What do you mean? An African or European swallow?']\n"
     ]
    }
   ],
   "source": [
    "text = \"\"\"Bridgekeeper: Hee hee heh. Stop. What... is your name?\n",
    "King Arthur: It is 'Arthur', King of the Britons.\n",
    "Bridgekeeper: What... is your quest?\n",
    "King Arthur: To seek the Holy Grail.\n",
    "Bridgekeeper: What... is the air-speed velocity of an unladen swallow?\n",
    "King Arthur: What do you mean? An African or European swallow?\"\"\"\n",
    "riadky = text.split(\"\\n\")\n",
    "#print(riadky)\n",
    "for x in riadky:\n",
    "    x = x.lower()\n",
    "    print(x)\n",
    "print(\"!!!Now show me my current rows\")\n",
    "print(riadky)\n",
    "#print(\"ANother way\")\n",
    "#for indx, x in enumerate(riadky):\n",
    "#    riadky[indx] = x.lower()\n",
    "#    print(riadky[indx])\n",
    "#print(\"!!!Now show me my current rows\")\n",
    "#print(riadky)"
   ]
  },
  {
   "cell_type": "markdown",
   "metadata": {},
   "source": [
    "### Úloha 3.9\n",
    "Naprogramujte skript jednoduchej kalkulačky, ktorá v cykle načíta na vstupe reťazec reprezentujúci číselný výraz v tvare:\n",
    "`[číslo1] [operácia] [číslo2]` a vypočíta jeho číselnú hodnotu. Čísla môžu byť celé, alebo desatinné, a operácia môže byť +-*/.\n",
    "Výsledok vypíšte na 4 desatinné miesta."
   ]
  },
  {
   "cell_type": "code",
   "execution_count": 6,
   "metadata": {},
   "outputs": [],
   "source": [
    "# ako vstup pre testovanie použite nasledujúci zoznam výrazov\n",
    "exprs = [\"1 + 2\", \"2 * 3,14\", \"2 - 3.0\", \"10 / 5\"] #rozdelim na 3 prvky, potom definujem operacie if...\n",
    "\n",
    "\n"
   ]
  },
  {
   "cell_type": "markdown",
   "metadata": {},
   "source": [
    "### Úloha 3.10\n",
    "Na vstupe máte nasledujúce textové dáta:"
   ]
  },
  {
   "cell_type": "code",
   "execution_count": null,
   "metadata": {},
   "outputs": [],
   "source": [
    "data = \"\"\"'power'; 'weight'; 'hybrid'; 'producer'\n",
    "55.3; 1450; false; 'ford'\n",
    "100; 2500; false; 'ford'\n",
    "60.5; 1150; true; 'toyota'\n",
    "56; ?; false; 'volkswagen'\n",
    "75.2; 1480; false; 'volkswagen'\n",
    "80.1; 1630; false; 'peugeot'\"\"\"\n",
    "\n",
    "#napisat kroky, ktorymi to mam vyriesit"
   ]
  },
  {
   "cell_type": "markdown",
   "metadata": {},
   "source": [
    "Napíšte skript, ktorý:\n",
    "* Rozdelí text na riadky a oddelí dátové polia. Hodnoty polí prevedie z reťazca na dátový typ Pythonu, tzn. čísla, reťazce bez oddeľovačov a Boolovské hodnoty.\n",
    "* Chýbajúce hodnoty označené `?` reprezentujte konštantou `None`.\n",
    "* Pre číselné polia vypíše základné štatistiky: min./max./priemernú hodnotu a štandardnú odchýlku zaokrúhlené na 4 desatinné miesta.\n",
    "* Pre textové polia vypíše zoznam hodnôt usporiadaný podľa abecedy."
   ]
  },
  {
   "cell_type": "code",
   "execution_count": null,
   "metadata": {},
   "outputs": [],
   "source": []
  }
 ],
 "metadata": {
  "kernelspec": {
   "display_name": "Python 3",
   "language": "python",
   "name": "python3"
  },
  "language_info": {
   "codemirror_mode": {
    "name": "ipython",
    "version": 3
   },
   "file_extension": ".py",
   "mimetype": "text/x-python",
   "name": "python",
   "nbconvert_exporter": "python",
   "pygments_lexer": "ipython3",
   "version": "3.7.2"
  }
 },
 "nbformat": 4,
 "nbformat_minor": 2
}
