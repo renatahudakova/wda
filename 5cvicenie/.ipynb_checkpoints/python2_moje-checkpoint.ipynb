{
 "cells": [
  {
   "cell_type": "markdown",
   "metadata": {},
   "source": [
    "## Dátové štruktúry a objekty 1\n",
    "Okrem základných dátových typov Python štandardne poskytuje typy pre kolekcie objektov, ako napr. zoznamy, množiny a mapy a dátové objekty pre reprezentáciu dátumov.\n",
    "\n",
    "### Zoznamy\n",
    "\n",
    "Zoznamy sú definované ako postupnosť hodnôt ku ktorým je možné pristupovať cez index (indexovanie je od 0). V Pythone môžu zoznamy obsahovať hodnoty rôznych typov. Na rozdiel od reťazcov, prvky zoznamov je možné meniť. Zoznamy sa definujú v hranatých zátvorkách `[]` a jednotlivé prvky sú oddelené `,`."
   ]
  },
  {
   "cell_type": "code",
   "execution_count": 1,
   "metadata": {},
   "outputs": [
    {
     "data": {
      "text/plain": [
       "['zero', 1, 2, 3]"
      ]
     },
     "execution_count": 1,
     "metadata": {},
     "output_type": "execute_result"
    }
   ],
   "source": [
    "numbers = [\"zero\", 1, 2, 3]  # zoznam môže obsahovať prvky rôznych typov\n",
    "numbers"
   ]
  },
  {
   "cell_type": "markdown",
   "metadata": {},
   "source": [
    "Indexovanie je podobné ako pri reťazcoch, záporné indexy označujú prvky od konca zoznamu."
   ]
  },
  {
   "cell_type": "code",
   "execution_count": 2,
   "metadata": {},
   "outputs": [
    {
     "name": "stdout",
     "output_type": "stream",
     "text": [
      "zero\n",
      "1\n",
      "0\n"
     ]
    }
   ],
   "source": [
    "print(numbers[0])  # = ‘zero’\n",
    "print(numbers[-3]) # = 1\n",
    "\n",
    "numbers[0] = 0    # na rozdiel od reťazcov, prvky môžete meniť\n",
    "print(numbers[0]) # = 0"
   ]
  },
  {
   "cell_type": "markdown",
   "metadata": {},
   "source": [
    "Aj pri zoznamoch môžete používať `+` na spájanie a `*` na opakovanie."
   ]
  },
  {
   "cell_type": "code",
   "execution_count": 3,
   "metadata": {},
   "outputs": [
    {
     "data": {
      "text/plain": [
       "['a', 'b', 'c', 'A', 'B', 'C']"
      ]
     },
     "execution_count": 3,
     "metadata": {},
     "output_type": "execute_result"
    }
   ],
   "source": [
    "lower_letters = ['a', 'b', 'c']\n",
    "letters = lower_letters + ['A', 'B', 'C']\n",
    "letters # = ['a', 'b', 'c', 'A', 'B', 'C']"
   ]
  },
  {
   "cell_type": "markdown",
   "metadata": {},
   "source": [
    "Podobne ako reťazce, zoznamy sú objekty, ktoré majú definované metódy."
   ]
  },
  {
   "cell_type": "code",
   "execution_count": 4,
   "metadata": {},
   "outputs": [
    {
     "data": {
      "text/plain": [
       "[0, 1, 2, 3, 4, 5]"
      ]
     },
     "execution_count": 4,
     "metadata": {},
     "output_type": "execute_result"
    }
   ],
   "source": [
    "numbers.append(5)       # na koniec zoznamu môžete pridať ďalší prvok metódou list.append(x) (numbers = [0, 1, 2, 3, 5])\n",
    "numbers.insert(4,4)     # a na zvolenú pozíciu metódou list.insert(index, x) (numbers = [0, 1, 2, 3, 4, 5])\n",
    "\n",
    "numbers.reverse()       # prehodí poradie prvkov (numbers = [5, 4, 3, 2, 1, 0])\n",
    "numbers.sort()          # usporiada ich podľa poradia\n",
    "numbers # = [0, 1, 2, 3, 4, 5]"
   ]
  },
  {
   "cell_type": "code",
   "execution_count": 5,
   "metadata": {},
   "outputs": [
    {
     "data": {
      "text/plain": [
       "[0, 1, 2, 3, 4, 5, 9]"
      ]
     },
     "execution_count": 5,
     "metadata": {},
     "output_type": "execute_result"
    }
   ],
   "source": [
    "numbers.append(9)\n",
    "numbers"
   ]
  },
  {
   "cell_type": "code",
   "execution_count": 6,
   "metadata": {},
   "outputs": [
    {
     "data": {
      "text/plain": [
       "[0, 1, 2, 3, 4, 5, 9, 10]"
      ]
     },
     "execution_count": 6,
     "metadata": {},
     "output_type": "execute_result"
    }
   ],
   "source": [
    "numbers.insert(10,10) #postupne som doplnila\n",
    "numbers"
   ]
  },
  {
   "cell_type": "code",
   "execution_count": 7,
   "metadata": {},
   "outputs": [
    {
     "data": {
      "text/plain": [
       "[10, 9, 5, 4, 3, 2, 1, 0]"
      ]
     },
     "execution_count": 7,
     "metadata": {},
     "output_type": "execute_result"
    }
   ],
   "source": [
    "numbers.reverse()\n",
    "numbers"
   ]
  },
  {
   "cell_type": "code",
   "execution_count": 8,
   "metadata": {},
   "outputs": [
    {
     "data": {
      "text/plain": [
       "[0, 1, 2, 3, 4, 5, 9, 10]"
      ]
     },
     "execution_count": 8,
     "metadata": {},
     "output_type": "execute_result"
    }
   ],
   "source": [
    "numbers.sort()  \n",
    "numbers"
   ]
  },
  {
   "cell_type": "markdown",
   "metadata": {},
   "source": [
    "Pomocou operátora `in` môžete zistiť, či zoznam obsahuje prvok s danou hodnotou."
   ]
  },
  {
   "cell_type": "code",
   "execution_count": 9,
   "metadata": {},
   "outputs": [
    {
     "data": {
      "text/plain": [
       "True"
      ]
     },
     "execution_count": 9,
     "metadata": {},
     "output_type": "execute_result"
    }
   ],
   "source": [
    "3 in numbers #= True"
   ]
  },
  {
   "cell_type": "markdown",
   "metadata": {},
   "source": [
    "Dĺžku zoznamu môžete zistiť funkciou `len`."
   ]
  },
  {
   "cell_type": "code",
   "execution_count": 18,
   "metadata": {},
   "outputs": [
    {
     "data": {
      "text/plain": [
       "6"
      ]
     },
     "execution_count": 18,
     "metadata": {},
     "output_type": "execute_result"
    }
   ],
   "source": [
    "len(numbers) # = 6 ##ine, lebo som doplnila"
   ]
  },
  {
   "cell_type": "markdown",
   "metadata": {},
   "source": [
    "Pomocou rozsahov `[od:do]` môžete vytvoriť kópiu zoznamu, ktorú môžete nezávisle meniť."
   ]
  },
  {
   "cell_type": "code",
   "execution_count": 19,
   "metadata": {},
   "outputs": [],
   "source": [
    "# pomocou rozsahu môžete vytvoriť kópiu celého zoznamu\n",
    "numbers = [0, 1, 2, 3, 4, 5]\n",
    "new_numbers = numbers[:]\n",
    "\n",
    "# kópiu môžete vytvoriť aj priamo z kolekcie hodnôt nasledujúcim zápisom\n",
    "new_numbers = list(numbers)"
   ]
  },
  {
   "cell_type": "markdown",
   "metadata": {},
   "source": [
    "Rozsahy môžete aj nahradiť za iný zoznam (nemusí mať rovnaký počet prvkov ako rozsah)."
   ]
  },
  {
   "cell_type": "code",
   "execution_count": 20,
   "metadata": {},
   "outputs": [
    {
     "name": "stdout",
     "output_type": "stream",
     "text": [
      "[0, 'one', 'two', 3, 4, 5]\n",
      "[0, 1, 2, 3, 4, 5] \n",
      "\n",
      "[0, 'one', 'two']\n",
      "[0, 1, 2, 3, 4, 5] \n",
      "\n",
      "[]\n"
     ]
    }
   ],
   "source": [
    "numbers = [0, 1, 2, 3, 4, 5]\n",
    "numbers[1:3] = [\"one\", \"two\"]\n",
    "print(numbers)\n",
    "print(new_numbers, \"\\n\")\n",
    "\n",
    "numbers[-3:] = [] # rozsah odstránite zo zoznamu priradením prázdneho zoznamu (odstránime posledné 3 prvky)\n",
    "print(numbers)\n",
    "print(new_numbers, \"\\n\")\n",
    "\n",
    "numbers[:] = [] # takto môžete zmazať aj všetky prvky zoznamu\n",
    "print(numbers)"
   ]
  },
  {
   "cell_type": "markdown",
   "metadata": {},
   "source": [
    "Prvky môžete odstrániť aj pomocou príkazu `del`."
   ]
  },
  {
   "cell_type": "code",
   "execution_count": 21,
   "metadata": {},
   "outputs": [
    {
     "name": "stdout",
     "output_type": "stream",
     "text": [
      "[1, 2, 3, 4, 5]\n"
     ]
    },
    {
     "data": {
      "text/plain": [
       "[1, 2]"
      ]
     },
     "execution_count": 21,
     "metadata": {},
     "output_type": "execute_result"
    }
   ],
   "source": [
    "del new_numbers[0]    # odstráni prvý prvok (new_numbers = [1, 2, 3, 4, 5])\n",
    "print(new_numbers)\n",
    "del new_numbers[-3:]  # odstráni posledné 3 prvky\n",
    "new_numbers # = [1, 2]"
   ]
  },
  {
   "cell_type": "markdown",
   "metadata": {},
   "source": [
    "Pomocou `del` môžete odstrániť aj celú premennú."
   ]
  },
  {
   "cell_type": "code",
   "execution_count": 23,
   "metadata": {},
   "outputs": [
    {
     "ename": "NameError",
     "evalue": "name 'new_numbers' is not defined",
     "output_type": "error",
     "traceback": [
      "\u001b[1;31m---------------------------------------------------------------------------\u001b[0m",
      "\u001b[1;31mNameError\u001b[0m                                 Traceback (most recent call last)",
      "\u001b[1;32m<ipython-input-23-22cc0fee0b31>\u001b[0m in \u001b[0;36m<module>\u001b[1;34m\u001b[0m\n\u001b[0;32m      1\u001b[0m \u001b[1;31m# od tohto príkazu ďalej, prístup k premennej new_numbers skončí chybou, musíte jej znovu priradiť novú hodnotu\u001b[0m\u001b[1;33m\u001b[0m\u001b[1;33m\u001b[0m\u001b[1;33m\u001b[0m\u001b[0m\n\u001b[1;32m----> 2\u001b[1;33m \u001b[1;32mdel\u001b[0m \u001b[0mnew_numbers\u001b[0m\u001b[1;33m\u001b[0m\u001b[1;33m\u001b[0m\u001b[0m\n\u001b[0m\u001b[0;32m      3\u001b[0m \u001b[0mnew_numbers\u001b[0m\u001b[1;33m\u001b[0m\u001b[1;33m\u001b[0m\u001b[0m\n",
      "\u001b[1;31mNameError\u001b[0m: name 'new_numbers' is not defined"
     ]
    }
   ],
   "source": [
    "# od tohto príkazu ďalej, prístup k premennej new_numbers skončí chybou, musíte jej znovu priradiť novú hodnotu\n",
    "del new_numbers\n",
    "new_numbers"
   ]
  },
  {
   "cell_type": "markdown",
   "metadata": {},
   "source": [
    "Môžete definovať aj vnorené zoznamy (nemusia mať rovnaký počet prvkov)."
   ]
  },
  {
   "cell_type": "code",
   "execution_count": 31,
   "metadata": {},
   "outputs": [
    {
     "name": "stdout",
     "output_type": "stream",
     "text": [
      "[['one', 'two'], [1, 2, 3]]\n"
     ]
    },
    {
     "data": {
      "text/plain": [
       "'two'"
      ]
     },
     "execution_count": 31,
     "metadata": {},
     "output_type": "execute_result"
    }
   ],
   "source": [
    "nested_list = [[\"one\", \"two\"], [1, 2, 3]] #toto sa pouziva pri maticiach\n",
    "print(nested_list)\n",
    "nested_list[0][1] # = ‘two’ ##prva hranata zatvorka - ktory zoznam (0-prvy), druha hranata zatvorka - ktory prvok zoznamu (1-druhy)\n",
    "\n",
    "#nested_list[1][0] # = 1    ##prva hranata zatvorka - ktory zoznam (1-druhy), druha hranata zatvorka - ktory prvok zoznamu (0-prvy)\n"
   ]
  },
  {
   "cell_type": "markdown",
   "metadata": {},
   "source": [
    "Reťazec môžete rozdeliť na časti oddelené oddeľovačom metódou `s.split(sep)`, ktorá vráti zoznam podreťazcov."
   ]
  },
  {
   "cell_type": "code",
   "execution_count": 32,
   "metadata": {},
   "outputs": [
    {
     "data": {
      "text/plain": [
       "['1', '', 'three']"
      ]
     },
     "execution_count": 32,
     "metadata": {},
     "output_type": "execute_result"
    }
   ],
   "source": [
    "strings = \"1,,three\".split(\",\") ##mozem si zvolit rozne symboly rozdelenia, podla potreby\n",
    "strings # = [\"1\", \"\", \"three\"]  # čísla sa automaticky neprevedú z reťazca"
   ]
  },
  {
   "cell_type": "markdown",
   "metadata": {},
   "source": [
    "Ak zoznam obsahuje reťazce, môžete ich spojiť oddeľovačom `sep` metódou `sep.join(list)`."
   ]
  },
  {
   "cell_type": "code",
   "execution_count": 33,
   "metadata": {},
   "outputs": [
    {
     "name": "stdout",
     "output_type": "stream",
     "text": [
      "1; two; three\n"
     ]
    }
   ],
   "source": [
    "print(\"; \".join([str(1), \"two\", \"three\"]))   # vypíše ‘1; two; three’ - všetky hodnoty musia byť reťazec (číslo 1 sme previedli funkciou str)"
   ]
  },
  {
   "cell_type": "markdown",
   "metadata": {},
   "source": [
    "Podrobnejší popis metód a viac o zoznamoch si môžete prečítať [tu](https://docs.python.org/3.7/tutorial/datastructures.html#more-on-lists) (v angličtine)."
   ]
  },
  {
   "cell_type": "markdown",
   "metadata": {},
   "source": [
    "## Úlohy\n",
    "\n",
    "### Úloha 2.1\n",
    "Napíšte logický výraz, ktorý otestuje, či zadaný zoznam nie je prázdny (tzn. počet položiek je viac než 0)."
   ]
  },
  {
   "cell_type": "code",
   "execution_count": 26,
   "metadata": {},
   "outputs": [
    {
     "data": {
      "text/plain": [
       "True"
      ]
     },
     "execution_count": 26,
     "metadata": {},
     "output_type": "execute_result"
    }
   ],
   "source": [
    "# výraz postupne otestujte pre zadané hodnoty\n",
    "#numbers = []\n",
    "numbers = [1, 2, 3]\n",
    "\n",
    "#numbers = []\n",
    "#len(numbers) #toto mi povie kolko prvkov, ale nie je logicky vyraz\n",
    "len(numbers) > 0\n"
   ]
  },
  {
   "cell_type": "markdown",
   "metadata": {},
   "source": [
    "### Úloha 2.2\n",
    "\n",
    "Vytvorte kópiu nasledujúceho zoznamu a priraďte ju premennej `new_numbers`. V kópii nahraďte reťazec `\"päť\"` za číslo 5, a na začiatok a koniec pridajte čísla 0 a 6."
   ]
  },
  {
   "cell_type": "code",
   "execution_count": 36,
   "metadata": {},
   "outputs": [
    {
     "data": {
      "text/plain": [
       "[0, 1, 2, 3, 4, 5, 6, 7]"
      ]
     },
     "execution_count": 36,
     "metadata": {},
     "output_type": "execute_result"
    }
   ],
   "source": [
    "numbers = [1, 2, 3, 4, \"päť\"]\n",
    "new_numbers = numbers[:] #vytvorilo novu kopiu\n",
    "new_numbers[4] = 5 ##v zozname mozem priamo pristupovat k prvkom cez index (a menit ich)\n",
    "new_numbers.insert(0,0) #prva hodnota na ktory index chcem dat, druha CO chcem dat\n",
    "new_numbers.append(6) ##new_numbers.insert(len(new_numbers), 6)\n",
    "#new_numbers.insert(len(new_numbers), 7)\n",
    "new_numbers"
   ]
  },
  {
   "cell_type": "markdown",
   "metadata": {},
   "source": [
    "### Úloha 2.3\n",
    "\n",
    "Vytvorte novú premennú `values` do ktorej skopírujte zo zoznamu `row` hodnoty 3, 4, 5."
   ]
  },
  {
   "cell_type": "code",
   "execution_count": 49,
   "metadata": {},
   "outputs": [
    {
     "data": {
      "text/plain": [
       "[3, 4, 5]"
      ]
     },
     "execution_count": 49,
     "metadata": {},
     "output_type": "execute_result"
    }
   ],
   "source": [
    "row = [2, 3, 4, 5, 6, 7, 8]\n",
    "value = row [1:4] #tu musim pocitat, ze posledne cislo je o jedno viac\n",
    "value"
   ]
  },
  {
   "cell_type": "markdown",
   "metadata": {},
   "source": [
    "### Úloha 2.4\n",
    "\n",
    "Odstráňte z nasledujúceho zoznamu prvé dva a posledné tri prvky."
   ]
  },
  {
   "cell_type": "code",
   "execution_count": 16,
   "metadata": {},
   "outputs": [
    {
     "data": {
      "text/plain": [
       "['C', 'D', 'E']"
      ]
     },
     "execution_count": 16,
     "metadata": {},
     "output_type": "execute_result"
    }
   ],
   "source": [
    "letters = [\"A\", \"B\", \"C\", \"D\", \"E\", \"F\", \"G\", \"H\"]\n",
    "del letters [0:2]\n",
    "del letters [-3:]\n",
    "letters"
   ]
  },
  {
   "cell_type": "markdown",
   "metadata": {},
   "source": [
    "### Úloha 2.5\n",
    "Vytvorte zoznamy s názvami ovocia a zeleniny, spojte ich do jedného zoznamu a usporiadajte podľa abecedy zostupne."
   ]
  },
  {
   "cell_type": "code",
   "execution_count": 14,
   "metadata": {},
   "outputs": [
    {
     "data": {
      "text/plain": [
       "['tomato', 'peach', 'cucumber', 'cherry', 'carrot', 'apricot', 'apple']"
      ]
     },
     "execution_count": 14,
     "metadata": {},
     "output_type": "execute_result"
    }
   ],
   "source": [
    "fruit = [\"apple\", \"peach\", \"cherry\", \"apricot\"]\n",
    "vegetable = [\"carrot\", \"tomato\",\"cucumber\"]\n",
    "f = fruit + vegetable\n",
    "f.sort()\n",
    "f.reverse()\n",
    "f"
   ]
  },
  {
   "cell_type": "code",
   "execution_count": null,
   "metadata": {},
   "outputs": [],
   "source": []
  }
 ],
 "metadata": {
  "kernelspec": {
   "display_name": "Python 3",
   "language": "python",
   "name": "python3"
  },
  "language_info": {
   "codemirror_mode": {
    "name": "ipython",
    "version": 3
   },
   "file_extension": ".py",
   "mimetype": "text/x-python",
   "name": "python",
   "nbconvert_exporter": "python",
   "pygments_lexer": "ipython3",
   "version": "3.7.2"
  }
 },
 "nbformat": 4,
 "nbformat_minor": 2
}
