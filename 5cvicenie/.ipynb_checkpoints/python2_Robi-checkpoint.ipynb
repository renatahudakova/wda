{
 "cells": [
  {
   "cell_type": "markdown",
   "metadata": {},
   "source": [
    "## Dátové štruktúry a objekty 1\n",
    "Okrem základných dátových typov Python štandardne poskytuje typy pre kolekcie objektov, ako napr. zoznamy, množiny a mapy a dátové objekty pre reprezentáciu dátumov.\n",
    "\n",
    "### Zoznamy\n",
    "\n",
    "Zoznamy sú definované ako postupnosť hodnôt ku ktorým je možné pristupovať cez index (indexovanie je od 0). V Pythone môžu zoznamy obsahovať hodnoty rôznych typov. Na rozdiel od reťazcov, prvky zoznamov je možné meniť. Zoznamy sa definujú v hranatých zátvorkách `[]` a jednotlivé prvky sú oddelené `,`."
   ]
  },
  {
   "cell_type": "code",
   "execution_count": 1,
   "metadata": {},
   "outputs": [
    {
     "data": {
      "text/plain": [
       "['zero', 1, 2, 3]"
      ]
     },
     "execution_count": 1,
     "metadata": {},
     "output_type": "execute_result"
    }
   ],
   "source": [
    "numbers = [\"zero\", 1, 2, 3]  # zoznam môže obsahovať prvky rôznych typov\n",
    "numbers"
   ]
  },
  {
   "cell_type": "code",
   "execution_count": 2,
   "metadata": {},
   "outputs": [
    {
     "name": "stdout",
     "output_type": "stream",
     "text": [
      "zero\n",
      "1\n",
      "2\n",
      "3\n"
     ]
    }
   ],
   "source": [
    "for x in numbers: ##toto je od Robiho, ak chcem vytlacit do riadkov\n",
    "    print(x)"
   ]
  },
  {
   "cell_type": "markdown",
   "metadata": {},
   "source": [
    "Indexovanie je podobné ako pri reťazcoch, záporné indexy označujú prvky od konca zoznamu."
   ]
  },
  {
   "cell_type": "code",
   "execution_count": 13,
   "metadata": {},
   "outputs": [
    {
     "name": "stdout",
     "output_type": "stream",
     "text": [
      "0\n",
      "1\n",
      "0\n"
     ]
    }
   ],
   "source": [
    "print(numbers[0])  # = ‘zero’\n",
    "print(numbers[-3]) # = 1\n",
    "\n",
    "numbers[0] = 0   # na rozdiel od reťazcov, prvky môžete meniť\n",
    "print(numbers[0]) # = 0"
   ]
  },
  {
   "cell_type": "markdown",
   "metadata": {},
   "source": [
    "Aj pri zoznamoch môžete používať `+` na spájanie a `*` na opakovanie."
   ]
  },
  {
   "cell_type": "code",
   "execution_count": 4,
   "metadata": {},
   "outputs": [
    {
     "data": {
      "text/plain": [
       "['a', 'b', 'c', 'A', 'B', 'C']"
      ]
     },
     "execution_count": 4,
     "metadata": {},
     "output_type": "execute_result"
    }
   ],
   "source": [
    "lower_letters = ['a', 'b', 'c']\n",
    "letters = lower_letters + ['A', 'B', 'C']\n",
    "letters # = ['a', 'b', 'c', 'A', 'B', 'C']"
   ]
  },
  {
   "cell_type": "markdown",
   "metadata": {},
   "source": [
    "Podobne ako reťazce, zoznamy sú objekty, ktoré majú definované metódy."
   ]
  },
  {
   "cell_type": "code",
   "execution_count": 14,
   "metadata": {},
   "outputs": [
    {
     "data": {
      "text/plain": [
       "[0, 1, 2, 3, 4, 5]"
      ]
     },
     "execution_count": 14,
     "metadata": {},
     "output_type": "execute_result"
    }
   ],
   "source": [
    "numbers.append(5)       # na koniec zoznamu môžete pridať ďalší prvok metódou list.append(x) (numbers = [0, 1, 2, 3, 5])\n",
    "numbers.insert(4,4)     # a na zvolenú pozíciu metódou list.insert(index, x) (numbers = [0, 1, 2, 3, 4, 5])\n",
    "\n",
    "numbers.reverse()       # prehodí poradie prvkov (numbers = [5, 4, 3, 2, 1, 0])\n",
    "numbers.sort()          # usporiada ich podľa poradia\n",
    "numbers # = [0, 1, 2, 3, 4, 5]\n",
    "#for i in numbers:\n",
    "#    print(i)"
   ]
  },
  {
   "cell_type": "markdown",
   "metadata": {},
   "source": [
    "Pomocou operátora `in` môžete zistiť, či zoznam obsahuje prvok s danou hodnotou."
   ]
  },
  {
   "cell_type": "code",
   "execution_count": 16,
   "metadata": {},
   "outputs": [
    {
     "data": {
      "text/plain": [
       "True"
      ]
     },
     "execution_count": 16,
     "metadata": {},
     "output_type": "execute_result"
    }
   ],
   "source": [
    "3 in numbers #= True"
   ]
  },
  {
   "cell_type": "code",
   "execution_count": 17,
   "metadata": {},
   "outputs": [
    {
     "name": "stdout",
     "output_type": "stream",
     "text": [
      "0\n",
      "1\n",
      "2\n",
      "3\n",
      "4\n",
      "5\n",
      "5 is in the list !\n"
     ]
    }
   ],
   "source": [
    "for x in numbers: ##Robi mi vysvetloval\n",
    "    print (x)\n",
    "\n",
    "n = 5\n",
    "if n in numbers:\n",
    "    print( str(n) + \" is in the list !\")\n",
    "else:\n",
    "    print( str(n) + \" is not in teh list !\")    "
   ]
  },
  {
   "cell_type": "markdown",
   "metadata": {},
   "source": [
    "Dĺžku zoznamu môžete zistiť funkciou `len`."
   ]
  },
  {
   "cell_type": "code",
   "execution_count": 22,
   "metadata": {},
   "outputs": [
    {
     "data": {
      "text/plain": [
       "6"
      ]
     },
     "execution_count": 22,
     "metadata": {},
     "output_type": "execute_result"
    }
   ],
   "source": [
    "len(numbers) # = 6"
   ]
  },
  {
   "cell_type": "markdown",
   "metadata": {},
   "source": [
    "Pomocou rozsahov `[od:do]` môžete vytvoriť kópiu zoznamu, ktorú môžete nezávisle meniť."
   ]
  },
  {
   "cell_type": "code",
   "execution_count": 36,
   "metadata": {},
   "outputs": [
    {
     "name": "stdout",
     "output_type": "stream",
     "text": [
      "[0, 1, 2, 3, 4, 5]\n"
     ]
    }
   ],
   "source": [
    "# pomocou rozsahu môžete vytvoriť kópiu celého zoznamu\n",
    "numbers = [0, 1, 2, 3, 4, 5]\n",
    "new_numbers = numbers[:]\n",
    "print(new_numbers)\n",
    "# kópiu môžete vytvoriť aj priamo z kolekcie hodnôt nasledujúcim zápisom\n",
    "new_numbers = list(numbers)"
   ]
  },
  {
   "cell_type": "code",
   "execution_count": 31,
   "metadata": {},
   "outputs": [
    {
     "name": "stdout",
     "output_type": "stream",
     "text": [
      "0\n",
      "1\n",
      "2\n",
      "3\n",
      "4\n",
      "5\n"
     ]
    }
   ],
   "source": [
    "# kópiu celého zoznamu môžete vytvoriť ako ##tu mi vyslvetloval Robi\n",
    "numbers = [0, 1, 2, 3, 4, 5]\n",
    "new_numbers = numbers[0:2]\n",
    "new1_numbers = numbers\n",
    "for i in new1_numbers:\n",
    "    print(i)\n",
    "    \n",
    "#print( \"new_numbers:\")\n",
    "#for x in new_numbers:\n",
    " #   print(x)"
   ]
  },
  {
   "cell_type": "markdown",
   "metadata": {},
   "source": [
    "Rozsahy môžete aj nahradiť za iný zoznam (nemusí mať rovnaký počet prvkov ako rozsah)."
   ]
  },
  {
   "cell_type": "code",
   "execution_count": null,
   "metadata": {},
   "outputs": [],
   "source": [
    "numbers = [0, 1, 2, 3, 4, 5]\n",
    "numbers[1:3] = [\"one\", \"two\"]\n",
    "for x in numbers:\n",
    "    print(x)\n",
    "print(\"Now we clean some staff inside ...\")  \n",
    "numbers[-3:-2] = [] # rozsah odstránite zo zoznamu priradením prázdneho zoznamu\n",
    "for x in numbers:\n",
    "    print(x)\n",
    "print (\"and last version is :\")\n",
    "#numbers[:] = []   # takto môžete zmazať aj všetky prvky zoznamu\n",
    "numbers = [] \n",
    "for x in numbers:\n",
    "    print(x)"
   ]
  },
  {
   "cell_type": "markdown",
   "metadata": {},
   "source": [
    "Prvky môžete odstrániť aj pomocou príkazu `del`."
   ]
  },
  {
   "cell_type": "code",
   "execution_count": null,
   "metadata": {},
   "outputs": [],
   "source": [
    "numbers = [0, 1, 2, 3, 4, 5]\n",
    "del new_numbers[0]    # odstráni prvý prvok (new_numbers = [1, 2, 3, 4, 5])\n",
    "del new_numbers[-3:]  # odstráni posledné 3 prvky\n",
    "new_numbers # = [1, 2]"
   ]
  },
  {
   "cell_type": "markdown",
   "metadata": {},
   "source": [
    "Pomocou `del` môžete odstrániť aj celú premennú."
   ]
  },
  {
   "cell_type": "code",
   "execution_count": null,
   "metadata": {},
   "outputs": [],
   "source": [
    "# od tohto príkazu ďalej, prístup k premennej new_numbers skončí chybou, musíte jej znovu priradiť novú hodnotu\n",
    "del new_numbers"
   ]
  },
  {
   "cell_type": "markdown",
   "metadata": {},
   "source": [
    "Môžete definovať aj vnorené zoznamy (nemusia mať rovnaký počet prvkov)."
   ]
  },
  {
   "cell_type": "code",
   "execution_count": null,
   "metadata": {},
   "outputs": [],
   "source": [
    "nested_list = [[\"one\", \"two\"],[1, 2, 3]]\n",
    "print(nested_list)\n",
    "print (nested_list[0][1]) # = ‘two’\n",
    "print(nested_list[1][0]) # = 1"
   ]
  },
  {
   "cell_type": "markdown",
   "metadata": {},
   "source": [
    "Reťazec môžete rozdeliť na časti oddelené oddeľovačom metódou `s.split(sep)`, ktorá vráti zoznam podreťazcov."
   ]
  },
  {
   "cell_type": "code",
   "execution_count": null,
   "metadata": {},
   "outputs": [],
   "source": [
    "strings = \"1,,three\".split(\",\")\n",
    "strings # = [\"1\", \"\", \"three\"]  # čísla sa automaticky neprevedú z reťazca\n",
    "strings2 = \"Gaika, 20: ciii, som\".split(\"ii\")\n",
    "print(strings2)"
   ]
  },
  {
   "cell_type": "markdown",
   "metadata": {},
   "source": [
    "Ak zoznam obsahuje reťazce, môžete ich spojiť oddeľovačom `sep` metódou `sep.join(list)`."
   ]
  },
  {
   "cell_type": "code",
   "execution_count": null,
   "metadata": {},
   "outputs": [],
   "source": [
    "print(\"; \".join([str(1), \"two\", \"three\"]))   # vypíše ‘1; two; three’ - všetky hodnoty musia byť reťazec (číslo 1 sme previedli funkciou str)\n",
    "print(\",\".join([\"ren\",\"ca\",str(45)]))"
   ]
  },
  {
   "cell_type": "markdown",
   "metadata": {},
   "source": [
    "Podrobnejší popis metód a viac o zoznamoch si môžete prečítať [tu](https://docs.python.org/3.7/tutorial/datastructures.html#more-on-lists) (v angličtine)."
   ]
  },
  {
   "cell_type": "markdown",
   "metadata": {},
   "source": [
    "## Úlohy\n",
    "\n",
    "### Úloha 2.1\n",
    "Napíšte logický výraz, ktorý otestuje, či zadaný zoznam nie je prázdny (tzn. počet položiek je viac než 0)."
   ]
  },
  {
   "cell_type": "code",
   "execution_count": null,
   "metadata": {},
   "outputs": [],
   "source": [
    "# výraz otestujte pre zadané hodnoty\n",
    "numbers = [1, 2, 3] #true\n",
    "\n",
    "numbers = [] #false\n",
    "\n",
    "len(numbers) > 0\n"
   ]
  },
  {
   "cell_type": "markdown",
   "metadata": {},
   "source": [
    "### Úloha 2.2\n",
    "\n",
    "Vytvorte kópiu nasledujúceho zoznamu a priraďte ju premennej `new_numbers`. V kópii nahraďte reťazec `\"päť\"` za číslo 5, a na začiatok a koniec pridajte čísla 0 a 6."
   ]
  },
  {
   "cell_type": "code",
   "execution_count": null,
   "metadata": {},
   "outputs": [],
   "source": [
    "numbers = [1, 2, 3, 4, \"päť\"]\n",
    "new_numbers = numbers[:]\n",
    "new_numbers[4] = 5\n",
    "new_numbers.insert(0, 0)\n",
    "new_numbers.append(6)\n",
    "#new_numbers.insert(len(new_numbers),7)\n",
    "\n",
    "new_numbers"
   ]
  },
  {
   "cell_type": "markdown",
   "metadata": {},
   "source": [
    "### Úloha 2.3\n",
    "\n",
    "Vytvorte novú premennú `values` do ktorej skopírujte zo zoznamu `row` hodnoty 3, 4, 5."
   ]
  },
  {
   "cell_type": "code",
   "execution_count": null,
   "metadata": {},
   "outputs": [],
   "source": [
    "row = [2, 3, 4, 5, 6, 7, 8]\n",
    "values = row [1:4]\n",
    "values"
   ]
  },
  {
   "cell_type": "markdown",
   "metadata": {},
   "source": [
    "### Úloha 2.4\n",
    "\n",
    "Odstráňte z nasledujúceho zoznamu prvé dva a posledné tri prvky."
   ]
  },
  {
   "cell_type": "code",
   "execution_count": null,
   "metadata": {},
   "outputs": [],
   "source": [
    "letters = [\"A\", \"B\", \"C\", \"D\", \"E\", \"F\", \"G\", \"H\"]\n",
    "letters [0:2] = [] # del letters [0:2] \n",
    "letters [-3:] = [] # del letters [-3:] (toto je este lepsie riesenie)\n",
    "letters"
   ]
  },
  {
   "cell_type": "markdown",
   "metadata": {},
   "source": [
    "### Úloha 2.5\n",
    "Vytvorte zoznamy s názvami ovocia a zeleniny, spojte ich do jedného zoznamu a usporiadajte podľa abecedy zostupne."
   ]
  },
  {
   "cell_type": "code",
   "execution_count": null,
   "metadata": {},
   "outputs": [],
   "source": [
    "ovocie = [\"jablko\", \"hruska\", \"mandarinka\"]\n",
    "zelenina = [\"mrkva\", \"zeler\", \"paprika\", \"paradajka\"]\n",
    "\n",
    "l = ovocie + zelenina\n",
    "l.sort()\n",
    "l.reverse()\n",
    "print(l) #staci napisat l"
   ]
  },
  {
   "cell_type": "code",
   "execution_count": null,
   "metadata": {},
   "outputs": [],
   "source": []
  }
 ],
 "metadata": {
  "kernelspec": {
   "display_name": "Python 3",
   "language": "python",
   "name": "python3"
  },
  "language_info": {
   "codemirror_mode": {
    "name": "ipython",
    "version": 3
   },
   "file_extension": ".py",
   "mimetype": "text/x-python",
   "name": "python",
   "nbconvert_exporter": "python",
   "pygments_lexer": "ipython3",
   "version": "3.7.2"
  }
 },
 "nbformat": 4,
 "nbformat_minor": 2
}
