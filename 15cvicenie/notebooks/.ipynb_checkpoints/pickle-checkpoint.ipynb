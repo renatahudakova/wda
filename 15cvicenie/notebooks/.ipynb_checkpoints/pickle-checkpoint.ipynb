{
 "cells": [
  {
   "cell_type": "markdown",
   "metadata": {},
   "source": [
    "## Serializácia modelov pomocou Pickle\n",
    "\n",
    "Pickle je nástroj slúžiaci sa serizalizáciu ľubovoľných Python objektov do súborov. Tieto je potom možné rovnakým spôosobom deserializovať (načítanie zo súboru) aj v iných aplikáciách do Python objektov (takých, ako boli vytvorené). Pomocou modulu Pickle teda môžeme serializovať do súborov natrénované modely, rovnako pomocou Pickle potom vieme takto uložené modely zo súborov načítavať. "
   ]
  },
  {
   "cell_type": "markdown",
   "metadata": {},
   "source": [
    "Príklad nižšie demonštruje, ako natrénujeme klasfikiátor a ako ho pomocou modulu Pickle serializujeme do súboru s príponou `.pkl`."
   ]
  },
  {
   "cell_type": "code",
   "execution_count": null,
   "metadata": {},
   "outputs": [],
   "source": [
    "import pandas as pd\n",
    "import numpy as np\n",
    "import seaborn as sns\n",
    "from sklearn.neighbors import KNeighborsClassifier \n",
    "\n",
    "\n",
    "data = sns.load_dataset(\"iris\")\n",
    "data.head()\n",
    "\n",
    "y_train = data['species']\n",
    "X_train = data.drop('species', axis=1)\n",
    "\n",
    "model = KNeighborsClassifier()         \n",
    "model = model.fit(X_train, y_train)                  \n",
    "\n",
    "prediction = model.predict([[4.3, 2.5, 1.5, 0.3]])\n",
    "print(prediction)"
   ]
  },
  {
   "cell_type": "markdown",
   "metadata": {},
   "source": [
    "Použitie Pickle je triviálne - potrebujeme iba špecifikovať, či chceme objekt uložiť (pomocou funkcie `dump`) alebo načítať (pomocou funkcie `load`), definovať názov ukladaného objektu, resp. načítavaného súboru a definovať režim čítania/zapisovania súboru.\n",
    "\n",
    "Uloženie modelu vytovreného v predošlom kroku potom bude vyzarať takto:"
   ]
  },
  {
   "cell_type": "code",
   "execution_count": null,
   "metadata": {},
   "outputs": [],
   "source": [
    "import pickle # importujeme modul Pickle\n",
    "\n",
    "pickle.dump(model, open(\"model.pkl\",\"wb\")) \n",
    "# ukladáme model\n",
    "# do súboru model.pkl\n",
    "# wb - write binary - režim ukladania"
   ]
  },
  {
   "cell_type": "markdown",
   "metadata": {},
   "source": [
    "Model potom môžeme zo súboru načítať (napr. v inej aplikácii). Podstatné je, že potrebujeme ho načítať v rovnakom režime v akom bol vytváraný."
   ]
  },
  {
   "cell_type": "code",
   "execution_count": null,
   "metadata": {},
   "outputs": [],
   "source": [
    "model = pickle.load(open(\"model.pkl\",\"rb\"))\n",
    "# do premennej model načítame súbor model.pkl\n",
    "# v režime rb - read binary"
   ]
  }
 ],
 "metadata": {
  "kernelspec": {
   "display_name": "Python 3",
   "language": "python",
   "name": "python3"
  },
  "language_info": {
   "codemirror_mode": {
    "name": "ipython",
    "version": 3
   },
   "file_extension": ".py",
   "mimetype": "text/x-python",
   "name": "python",
   "nbconvert_exporter": "python",
   "pygments_lexer": "ipython3",
   "version": "3.7.1"
  }
 },
 "nbformat": 4,
 "nbformat_minor": 2
}
