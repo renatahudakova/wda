{
 "cells": [
  {
   "cell_type": "markdown",
   "metadata": {},
   "source": [
    "## Zhlukovanie - Vyhodnotenie a interpretácia zhlukov - príklad 1\n",
    "\n",
    "Nasledujúci príklad demonštruje zhlukovanie nákupných dát ako v minulotýždňovom príklade. \n",
    "\n",
    "Tentoraz sa zameriame na iné kritériá pre vyhodnotenie kvality a kompaktnosti zhlukov a ich interpretáciu nie pomocou vizualizácií, ale pomocou rozhodovacích stromov. \n",
    "\n",
    "Najprv si importujeme potrebné knižnice pre prácu s dátovými rámcami, poľami a pre vykresľovanie grafov. "
   ]
  },
  {
   "cell_type": "code",
   "execution_count": 1,
   "metadata": {},
   "outputs": [],
   "source": [
    "import pandas as pd\n",
    "import numpy as np\n",
    "import matplotlib.pyplot as plt"
   ]
  },
  {
   "cell_type": "markdown",
   "metadata": {},
   "source": [
    "Do dátového rámca načítame vstupné dáta zo súboru. Vypíšeme prvých 5 záznamov.  "
   ]
  },
  {
   "cell_type": "code",
   "execution_count": 2,
   "metadata": {},
   "outputs": [
    {
     "data": {
      "text/html": [
       "<div>\n",
       "<style scoped>\n",
       "    .dataframe tbody tr th:only-of-type {\n",
       "        vertical-align: middle;\n",
       "    }\n",
       "\n",
       "    .dataframe tbody tr th {\n",
       "        vertical-align: top;\n",
       "    }\n",
       "\n",
       "    .dataframe thead th {\n",
       "        text-align: right;\n",
       "    }\n",
       "</style>\n",
       "<table border=\"1\" class=\"dataframe\">\n",
       "  <thead>\n",
       "    <tr style=\"text-align: right;\">\n",
       "      <th></th>\n",
       "      <th>Channel</th>\n",
       "      <th>Region</th>\n",
       "      <th>Fresh</th>\n",
       "      <th>Milk</th>\n",
       "      <th>Grocery</th>\n",
       "      <th>Frozen</th>\n",
       "      <th>Detergents_Paper</th>\n",
       "      <th>Delicassen</th>\n",
       "    </tr>\n",
       "  </thead>\n",
       "  <tbody>\n",
       "    <tr>\n",
       "      <th>0</th>\n",
       "      <td>2</td>\n",
       "      <td>3</td>\n",
       "      <td>12669</td>\n",
       "      <td>9656</td>\n",
       "      <td>7561</td>\n",
       "      <td>214</td>\n",
       "      <td>2674</td>\n",
       "      <td>1338</td>\n",
       "    </tr>\n",
       "    <tr>\n",
       "      <th>1</th>\n",
       "      <td>2</td>\n",
       "      <td>3</td>\n",
       "      <td>7057</td>\n",
       "      <td>9810</td>\n",
       "      <td>9568</td>\n",
       "      <td>1762</td>\n",
       "      <td>3293</td>\n",
       "      <td>1776</td>\n",
       "    </tr>\n",
       "    <tr>\n",
       "      <th>2</th>\n",
       "      <td>2</td>\n",
       "      <td>3</td>\n",
       "      <td>6353</td>\n",
       "      <td>8808</td>\n",
       "      <td>7684</td>\n",
       "      <td>2405</td>\n",
       "      <td>3516</td>\n",
       "      <td>7844</td>\n",
       "    </tr>\n",
       "    <tr>\n",
       "      <th>3</th>\n",
       "      <td>1</td>\n",
       "      <td>3</td>\n",
       "      <td>13265</td>\n",
       "      <td>1196</td>\n",
       "      <td>4221</td>\n",
       "      <td>6404</td>\n",
       "      <td>507</td>\n",
       "      <td>1788</td>\n",
       "    </tr>\n",
       "    <tr>\n",
       "      <th>4</th>\n",
       "      <td>2</td>\n",
       "      <td>3</td>\n",
       "      <td>22615</td>\n",
       "      <td>5410</td>\n",
       "      <td>7198</td>\n",
       "      <td>3915</td>\n",
       "      <td>1777</td>\n",
       "      <td>5185</td>\n",
       "    </tr>\n",
       "  </tbody>\n",
       "</table>\n",
       "</div>"
      ],
      "text/plain": [
       "   Channel  Region  Fresh  Milk  Grocery  Frozen  Detergents_Paper  Delicassen\n",
       "0        2       3  12669  9656     7561     214              2674        1338\n",
       "1        2       3   7057  9810     9568    1762              3293        1776\n",
       "2        2       3   6353  8808     7684    2405              3516        7844\n",
       "3        1       3  13265  1196     4221    6404               507        1788\n",
       "4        2       3  22615  5410     7198    3915              1777        5185"
      ]
     },
     "execution_count": 2,
     "metadata": {},
     "output_type": "execute_result"
    }
   ],
   "source": [
    "data = pd.read_csv('../data/wholesale.csv')\n",
    "data.head()"
   ]
  },
  {
   "cell_type": "markdown",
   "metadata": {},
   "source": [
    "Rovnako ako v predošlom cvičení transformujeme dáta pomocou One Hot Encoderu (oba atribúty obsahujúce kategorické dáta) a 5 prvých záznamov transformovaného datasetu vypíšeme na obrazovku. "
   ]
  },
  {
   "cell_type": "code",
   "execution_count": 3,
   "metadata": {},
   "outputs": [
    {
     "data": {
      "text/html": [
       "<div>\n",
       "<style scoped>\n",
       "    .dataframe tbody tr th:only-of-type {\n",
       "        vertical-align: middle;\n",
       "    }\n",
       "\n",
       "    .dataframe tbody tr th {\n",
       "        vertical-align: top;\n",
       "    }\n",
       "\n",
       "    .dataframe thead th {\n",
       "        text-align: right;\n",
       "    }\n",
       "</style>\n",
       "<table border=\"1\" class=\"dataframe\">\n",
       "  <thead>\n",
       "    <tr style=\"text-align: right;\">\n",
       "      <th></th>\n",
       "      <th>Fresh</th>\n",
       "      <th>Milk</th>\n",
       "      <th>Grocery</th>\n",
       "      <th>Frozen</th>\n",
       "      <th>Detergents_Paper</th>\n",
       "      <th>Delicassen</th>\n",
       "      <th>Channel_1</th>\n",
       "      <th>Channel_2</th>\n",
       "      <th>Region_1</th>\n",
       "      <th>Region_2</th>\n",
       "      <th>Region_3</th>\n",
       "    </tr>\n",
       "  </thead>\n",
       "  <tbody>\n",
       "    <tr>\n",
       "      <th>0</th>\n",
       "      <td>12669</td>\n",
       "      <td>9656</td>\n",
       "      <td>7561</td>\n",
       "      <td>214</td>\n",
       "      <td>2674</td>\n",
       "      <td>1338</td>\n",
       "      <td>0</td>\n",
       "      <td>1</td>\n",
       "      <td>0</td>\n",
       "      <td>0</td>\n",
       "      <td>1</td>\n",
       "    </tr>\n",
       "    <tr>\n",
       "      <th>1</th>\n",
       "      <td>7057</td>\n",
       "      <td>9810</td>\n",
       "      <td>9568</td>\n",
       "      <td>1762</td>\n",
       "      <td>3293</td>\n",
       "      <td>1776</td>\n",
       "      <td>0</td>\n",
       "      <td>1</td>\n",
       "      <td>0</td>\n",
       "      <td>0</td>\n",
       "      <td>1</td>\n",
       "    </tr>\n",
       "    <tr>\n",
       "      <th>2</th>\n",
       "      <td>6353</td>\n",
       "      <td>8808</td>\n",
       "      <td>7684</td>\n",
       "      <td>2405</td>\n",
       "      <td>3516</td>\n",
       "      <td>7844</td>\n",
       "      <td>0</td>\n",
       "      <td>1</td>\n",
       "      <td>0</td>\n",
       "      <td>0</td>\n",
       "      <td>1</td>\n",
       "    </tr>\n",
       "    <tr>\n",
       "      <th>3</th>\n",
       "      <td>13265</td>\n",
       "      <td>1196</td>\n",
       "      <td>4221</td>\n",
       "      <td>6404</td>\n",
       "      <td>507</td>\n",
       "      <td>1788</td>\n",
       "      <td>1</td>\n",
       "      <td>0</td>\n",
       "      <td>0</td>\n",
       "      <td>0</td>\n",
       "      <td>1</td>\n",
       "    </tr>\n",
       "    <tr>\n",
       "      <th>4</th>\n",
       "      <td>22615</td>\n",
       "      <td>5410</td>\n",
       "      <td>7198</td>\n",
       "      <td>3915</td>\n",
       "      <td>1777</td>\n",
       "      <td>5185</td>\n",
       "      <td>0</td>\n",
       "      <td>1</td>\n",
       "      <td>0</td>\n",
       "      <td>0</td>\n",
       "      <td>1</td>\n",
       "    </tr>\n",
       "  </tbody>\n",
       "</table>\n",
       "</div>"
      ],
      "text/plain": [
       "   Fresh  Milk  Grocery  Frozen  Detergents_Paper  Delicassen  Channel_1  \\\n",
       "0  12669  9656     7561     214              2674        1338          0   \n",
       "1   7057  9810     9568    1762              3293        1776          0   \n",
       "2   6353  8808     7684    2405              3516        7844          0   \n",
       "3  13265  1196     4221    6404               507        1788          1   \n",
       "4  22615  5410     7198    3915              1777        5185          0   \n",
       "\n",
       "   Channel_2  Region_1  Region_2  Region_3  \n",
       "0          1         0         0         1  \n",
       "1          1         0         0         1  \n",
       "2          1         0         0         1  \n",
       "3          0         0         0         1  \n",
       "4          1         0         0         1  "
      ]
     },
     "execution_count": 3,
     "metadata": {},
     "output_type": "execute_result"
    }
   ],
   "source": [
    "data = pd.get_dummies(data, columns=['Channel', 'Region']) \n",
    "data.head()"
   ]
  },
  {
   "cell_type": "markdown",
   "metadata": {},
   "source": [
    "Keďže budeme vytvárať K-Means model, tak numerické atribúty normalizujeme použitím MinMaxScaler-u. "
   ]
  },
  {
   "cell_type": "code",
   "execution_count": 4,
   "metadata": {},
   "outputs": [
    {
     "name": "stderr",
     "output_type": "stream",
     "text": [
      "C:\\Users\\havra\\Anaconda3\\lib\\site-packages\\sklearn\\preprocessing\\data.py:334: DataConversionWarning: Data with input dtype uint8, int64 were all converted to float64 by MinMaxScaler.\n",
      "  return self.partial_fit(X, y)\n",
      "C:\\Users\\havra\\Anaconda3\\lib\\site-packages\\sklearn\\preprocessing\\data.py:334: DataConversionWarning: Data with input dtype uint8, int64 were all converted to float64 by MinMaxScaler.\n",
      "  return self.partial_fit(X, y)\n"
     ]
    }
   ],
   "source": [
    "from sklearn.preprocessing import MinMaxScaler # importujeme MinMaxScaler\n",
    "\n",
    "scaler = MinMaxScaler() # Inicializujeme transformátor\n",
    "scaler.fit(data) # aplikujeme ho na vstupné dáta\n",
    "\n",
    "# po aplikovaní scaleru budeme mať výstup vo forme numpy poľa\n",
    "# to môžeme - ale nemusíme - naspať transformovať do pandas rámca (ak chceme ešte robiť nejaké predspracovanie)\n",
    "# funkcie pre trénovanie modelov potom vedia pracovať aj s pandas aj s numpy\n",
    "\n",
    "# data_norm = scaler.transform(data)\n",
    "data_norm = pd.DataFrame(scaler.fit_transform(data), index=data.index, columns=data.columns)"
   ]
  },
  {
   "cell_type": "markdown",
   "metadata": {},
   "source": [
    "#### Kritérium Silhouette \n",
    "\n",
    "Okrem sumy štvorocov vzdialeností od reprezentanta zhluku môžeme použiť viacero iných metrík, ktoré definujú kvalitu jednotlivých zhlukov. Tie má zmysel použiť:\n",
    "* tam, kde nepoužívame metódy, ktoré vytvárajú reprezentantov zhlukov\n",
    "* vtedy, ak chceme použiť iné kritérium, ako používa samotný algorimtus \n",
    "\n",
    "Jedným z takýchto kritérií je index Silhouette. Ten udáva koeficient, vypočítaný pre každý príklad a spriemernený pre celú dátovú množinu. Koeficient kombinuje priemernú hodnotu metriky vnútro-zhlukovej vzdialenosti s priemernou vzdialenosťou k najbližšiemu zhluku. Koeficient nadobúda hodnoty od 0 a 1 (pre každý príklad). Hodnota blízka nule znamená, že príklad je pravdepodobne zaradený do nesprávneho zhluku a hodnoty bližšie k 1 vyjadrujú, že príklad je regulérnym prvkom predikovaného zhluku a dobre odlíšiteľný od ostatných. Koeficient Silhouette v scikit-learn potom vypočítava priemernú hodnotu pre všetky príklady. To potom umožňuje porovnať viacero zhlukovacích modelov (s rôznymi počtami zhlukov) navzájom. \n",
    "\n",
    "Podobne ako v prípade hľadania správnej hodnoty zhlukov pomocou sumy štvorcov vzdialeností, môžeme v cykle povytvárať viacero modelov, ktoré prostredníctvom tohoto kritéria evaluujeme."
   ]
  },
  {
   "cell_type": "code",
   "execution_count": 5,
   "metadata": {},
   "outputs": [],
   "source": [
    "from sklearn.cluster import KMeans # importujeme knižnicu pre KMeans\n",
    "from sklearn.metrics import silhouette_score # importujeme funkciu pre výpočet Silhouette\n",
    "\n",
    "# použijeme Silhouette score pre počet zhlukov\n",
    "# môžeme potom porovnať ideálne počty zhlukov pre rôzne kritériá\n",
    "\n",
    "K = range(2,10) # vygenerujeme pole parametrov (počet zhlukov)\n",
    "\n",
    "results = [] \n",
    "\n",
    "# v cykle vytvoríme pre každú hodnotu parametra zhlukovací model, počet zhlukov zodpovedá hodnote iterátora\n",
    "\n",
    "for k in K:\n",
    "    model = KMeans(n_clusters = k)\n",
    "    model.fit(data_norm)\n",
    "    predictions = model.predict(data_norm) # pre výpočet silhouette priradíme príklady zo vstupných dát do zhlukov\n",
    "    results.append(silhouette_score(data_norm, predictions)) # vypočítame skóre a priradíme ho do znoznamu, v ktorom budeme ukladať všetky skóre"
   ]
  },
  {
   "cell_type": "code",
   "execution_count": 6,
   "metadata": {},
   "outputs": [
    {
     "name": "stdout",
     "output_type": "stream",
     "text": [
      "[0.5683105632788533, 0.6758522994678243, 0.7517817626189348, 0.8139267553776266, 0.84865559864045, 0.8250031450482495, 0.669713876397921, 0.6545987837283659]\n"
     ]
    }
   ],
   "source": [
    "# výsledky môžeme vypísať na obrazovku\n",
    "# zoznam obsahuje Silhouette skóre pre parametre, v poradí, v akom boli vytvárané\n",
    "\n",
    "print(results)"
   ]
  },
  {
   "cell_type": "markdown",
   "metadata": {},
   "source": [
    "Ak chceme, skóre Silhouette vieme vizualizovať rovnakým spôsobom ako v prípade sumy štvorcov vzdialeností od centroidu. \n",
    "\n",
    "### Úloha 13.1:\n",
    "\n",
    "Použite matplotlib rovnako ako v úlohách z predošlého cvičenia na vykreslenie závislosti počtu zhlukov od Silhouette skóre."
   ]
  },
  {
   "cell_type": "code",
   "execution_count": 8,
   "metadata": {},
   "outputs": [
    {
     "data": {
      "image/png": "[encoded data removed]",
      "text/plain": [
       "<Figure size 432x288 with 1 Axes>"
      ]
     },
     "metadata": {
      "needs_background": "light"
     },
     "output_type": "display_data"
    }
   ],
   "source": [
    "# YOUR CODE HERE\n",
    "plt.plot(K,results,'bx-')\n",
    "plt.xlabel('Pocet zhlukov')\n",
    "plt.ylabel('Silhouette score')\n",
    "plt.show()"
   ]
  },
  {
   "cell_type": "markdown",
   "metadata": {},
   "source": [
    "Teraz môžeme natrénovať model s najlepšim skóre. "
   ]
  },
  {
   "cell_type": "code",
   "execution_count": 9,
   "metadata": {},
   "outputs": [],
   "source": [
    "model = KMeans(n_clusters=6) # vytvoríme model pre stanovený počet zhlukov\n",
    "model.fit(data_norm) # naučíme na trénovacej množine\n",
    "\n",
    "labels = model.predict(data_norm) # vstupné dáta zatriedime do zhlukov"
   ]
  },
  {
   "cell_type": "code",
   "execution_count": 10,
   "metadata": {},
   "outputs": [
    {
     "name": "stdout",
     "output_type": "stream",
     "text": [
      "[0 0 0 1 0 0 0 0 1 0 0 0 0 0 0 1 0 1 0 1 0 1 1 0 0 0 1 1 0 1 1 1 1 1 1 0 1\n",
      " 0 0 1 1 1 0 0 0 0 0 0 0 0 1 1 0 0 1 1 0 0 1 1 0 0 0 0 1 0 1 0 1 1 1 1 1 0\n",
      " 0 1 1 0 1 1 1 0 0 1 0 0 0 1 1 1 1 1 0 1 0 1 0 1 1 1 0 0 0 1 1 1 0 0 0 0 1\n",
      " 0 1 1 1 1 1 1 1 1 1 1 1 0 1 1 1 0 1 1 1 1 1 1 1 1 1 1 1 1 1 1 1 1 1 0 1 1\n",
      " 1 1 1 1 1 1 1 0 0 1 0 0 0 1 1 0 0 0 0 1 1 1 0 0 1 0 1 0 1 1 1 1 1 1 1 1 1\n",
      " 1 1 1 0 0 1 1 1 0 1 1 2 5 2 2 5 5 2 2 2 5 2 5 2 5 2 5 2 2 5 2 5 2 5 2 2 2\n",
      " 2 5 2 2 5 2 2 2 5 2 2 2 2 2 2 2 2 2 2 2 2 2 2 5 2 2 2 2 2 5 2 2 2 2 2 2 2\n",
      " 2 2 2 2 2 5 2 5 2 5 2 2 2 2 1 1 1 1 1 1 0 1 0 1 1 1 1 1 1 1 1 1 1 1 4 3 4\n",
      " 3 4 4 3 4 4 4 4 4 4 4 3 3 4 3 3 4 3 3 4 3 3 3 4 3 3 3 3 3 3 3 3 3 3 3 4 3\n",
      " 4 4 4 3 3 3 3 0 0 1 0 1 1 0 0 1 0 1 0 1 0 1 1 1 0 1 1 1 1 1 1 1 0 1 1 1 1\n",
      " 0 1 1 0 1 1 0 1 1 0 1 1 1 1 1 1 1 1 1 1 1 1 1 1 1 1 0 1 1 1 1 1 1 1 1 1 1\n",
      " 0 0 1 1 1 1 1 1 0 0 1 0 1 1 0 1 0 0 1 1 1 1 1 1 1 1 1 1 1 1 0 1 1]\n"
     ]
    }
   ],
   "source": [
    "# na príslušnosť príkladov do zhlukov sa môžeme pozrieť vypísaním ich predikcií\n",
    "print(labels)"
   ]
  },
  {
   "cell_type": "markdown",
   "metadata": {},
   "source": [
    "Podstatnou informáciou môže byť aj početnosť jednotlivých zhlukov v rámci vstupných dát. Tú si môžeme jednoducho spočítať z `labels` a to tak, že spočítame počty výskytov rôznych prvkov poľa výsledkov zhlukovania."
   ]
  },
  {
   "cell_type": "code",
   "execution_count": 11,
   "metadata": {},
   "outputs": [
    {
     "name": "stdout",
     "output_type": "stream",
     "text": [
      "[[  0   1   2   3   4   5]\n",
      " [105 211  59  28  19  18]]\n"
     ]
    }
   ],
   "source": [
    "clusters, counts = np.unique(labels, return_counts=True) # pomocou funkcie unique identifikujeme rôzne hodnoty a vrátime aj ich počty\n",
    "print(np.asarray((clusters, counts))) # aby sme \"krajšie\" naformátovali výstup, spojíme ich do numpy poľa"
   ]
  },
  {
   "cell_type": "code",
   "execution_count": null,
   "metadata": {},
   "outputs": [],
   "source": []
  },
  {
   "cell_type": "markdown",
   "metadata": {},
   "source": [
    "### Interpretácia zhlukov pomocou klasifikátorov\n",
    "\n",
    "Jednou z možností (okrem skúmania hodnôt atribútov atď.), ako interpretovať výsledné zhluky je postaviť nad danými zhlukmi klasifikačné modely, ktoré umožnia príklady patriace do daného zhluku nejakým spôsobom popísať.\n",
    "\n",
    "V takomto prípade je proces nasledovný - zhlukovaním si vlastne z pohľadu klasifikácie \"vygenerujeme\" cieľový atribút. Jednotlivé zhluky potom v podstate predstavujú jeho jednotlivé hodnoty - triedy. K vstupným dátam môžeme teda priradiť \"cieľový atribút\", ktorý ale teraz vyjadruje príslušnosť príkladu do konkrétneho zhluku. Nad takýmito dátami teda môžeme vytvoriť klasifikačný model - ideálne taký, ktorý je dobre reprezetovateľný a pochopiteľný, keďže našim cieľom je vytvorené zhluky pochopiť a porozumieť im, ideálne aj popísať napr. pomocou kombinácie hodnôt atribútov.\n",
    "\n",
    "Keď použijeme vstupné dáta (`data`) a vektor príslušnosti príkladov do zhlukov (`labels`), vytvoríme tak v podstate dvojicu matica príznakov a vektor hodnôt cieľového atribútu, ktoré používame v klasifikácii. Dáta sú potom pripravené v takej podobe, že ich môžeme použiť na trénovanie klasifikačných modelov. "
   ]
  },
  {
   "cell_type": "code",
   "execution_count": 12,
   "metadata": {},
   "outputs": [],
   "source": [
    "# dátový rámec data v podstate zodpovedá matici príznakov\n",
    "# stĺpec hodnôt cieľového atribútu zodpovedá vektoru hodnôt cieľového atribútu\n",
    "\n",
    "X_train = data ##vektor priznakov mozeme pouzit \n",
    "y_train = labels ##vektor cieloveho atributu "
   ]
  },
  {
   "cell_type": "code",
   "execution_count": 13,
   "metadata": {},
   "outputs": [
    {
     "name": "stdout",
     "output_type": "stream",
     "text": [
      "(440, 11)\n",
      "(440,)\n"
     ]
    }
   ],
   "source": [
    "print(X_train.shape)\n",
    "print(y_train.shape)"
   ]
  },
  {
   "cell_type": "markdown",
   "metadata": {},
   "source": [
    "### Úloha 13.2:\n",
    "\n",
    "Aký klasifikátor je potrebné natrénovať, na takýchto dátach, aby sme vedeli získať štruktúru vhodnú pre popis zhlukov? Aké znalosti z takéhoto modelu a v akej forme potom môžeme získať?"
   ]
  },
  {
   "cell_type": "code",
   "execution_count": null,
   "metadata": {},
   "outputs": [],
   "source": [
    "# rozhodovacie stromy"
   ]
  },
  {
   "cell_type": "markdown",
   "metadata": {},
   "source": [
    "### Úloha 13.3.:\n",
    "\n",
    "Natrénujte vhodne zvolený typ modelu na vstupných dátach. V prípade potreby ešte dodatočne predspracujte dáta. Zvoľte metódu pre nájdenie parametrov, alebo parametre modelu odhadnite."
   ]
  },
  {
   "cell_type": "code",
   "execution_count": 16,
   "metadata": {},
   "outputs": [
    {
     "name": "stdout",
     "output_type": "stream",
     "text": [
      "[[105   0   0   0   0   0]\n",
      " [  0 211   0   0   0   0]\n",
      " [  0   0  59   0   0   0]\n",
      " [  0   0   0  28   0   0]\n",
      " [  0   0   0   0  19   0]\n",
      " [  0   0   0   0   0  18]]\n"
     ]
    }
   ],
   "source": [
    "# YOUR CODE HERE ###ideme pouzit stromy\n",
    "from sklearn.tree import DecisionTreeClassifier\n",
    "\n",
    "dtree = DecisionTreeClassifier()\n",
    "dtree.fit(X_train, y_train)\n",
    "y_dt = dtree.predict(X_train) #na trenovacne naucime, aj otestujem\n",
    "\n",
    "from sklearn.metrics import confusion_matrix\n",
    "\n",
    "print(confusion_matrix(y_train, y_dt))"
   ]
  },
  {
   "cell_type": "markdown",
   "metadata": {},
   "source": [
    "### Úloha 13.4:\n",
    "\n",
    "Natrénujte model s vhodnými parametrami na vstupných dátach a zobrazte preň `confusion_matrix`. Porovnajte výslednú maticu s výsledkami početnosti jednotlivých zhlukov.  "
   ]
  },
  {
   "cell_type": "code",
   "execution_count": null,
   "metadata": {},
   "outputs": [],
   "source": [
    "# YOUR CODE HERE\n"
   ]
  },
  {
   "cell_type": "markdown",
   "metadata": {},
   "source": [
    "### Úloha 13.5:\n",
    "\n",
    "Použite kód z príkladov z predchádzajúcich cvičení a pokúste sa vizualizovať vytvorený model. Viete pomocou znalostí, ktoré z jeho štruktúry odvodíte popísať jednotlivé triedy, resp. zhluky?"
   ]
  },
  {
   "cell_type": "code",
   "execution_count": 21,
   "metadata": {},
   "outputs": [],
   "source": [
    "# YOUR CODE HERE\n",
    "from sklearn import tree\n",
    "from sklearn.tree import export_graphviz\n",
    "\n",
    "with open(\"file.txt\", \"w\") as f:\n",
    "    f = tree.export_graphviz(dtree, feature_names=X_train.columns.values, class_names=[\"0\", \"1\", \"2\", \"3\", \"4\", \"5\"], out_file=f)"
   ]
  },
  {
   "cell_type": "code",
   "execution_count": null,
   "metadata": {},
   "outputs": [],
   "source": []
  }
 ],
 "metadata": {
  "kernelspec": {
   "display_name": "Python 3",
   "language": "python",
   "name": "python3"
  },
  "language_info": {
   "codemirror_mode": {
    "name": "ipython",
    "version": 3
   },
   "file_extension": ".py",
   "mimetype": "text/x-python",
   "name": "python",
   "nbconvert_exporter": "python",
   "pygments_lexer": "ipython3",
   "version": "3.7.2"
  }
 },
 "nbformat": 4,
 "nbformat_minor": 2
}
