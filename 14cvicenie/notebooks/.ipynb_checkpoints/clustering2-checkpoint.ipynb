{
 "cells": [
  {
   "cell_type": "markdown",
   "metadata": {},
   "source": [
    "## Zhlukovanie - vyhodnotenie a interpretácia zhlukov - príklad 2\n",
    "\n",
    "Rovnakýn postup ako v predošlom príklade si vieme demonštrovať aj na inom príklade. V tomto datasete budeme pracovať s dátami, ktoré charakterizujú zákazníkov. Každý z nich je popísaný:\n",
    "* Gender - pohlavie\n",
    "* Age - vek\n",
    "* Annual Income - ročný príjem v dolároch\n",
    "* Spending Score - index popisujúci tendenciu zákazníka nakupovať"
   ]
  },
  {
   "cell_type": "code",
   "execution_count": null,
   "metadata": {},
   "outputs": [],
   "source": [
    "# importujeme potrebné knižnice\n",
    "\n",
    "import pandas as pd\n",
    "import numpy as np\n",
    "import matplotlib.pyplot as plt"
   ]
  },
  {
   "cell_type": "code",
   "execution_count": null,
   "metadata": {},
   "outputs": [],
   "source": [
    "# načítame dáta do dátového rámca a vypíšeme prvých 5 riadkov\n",
    "\n",
    "data = pd.read_csv('../data/customers.csv')\n",
    "data.head()"
   ]
  },
  {
   "cell_type": "markdown",
   "metadata": {},
   "source": [
    "Najprv si dáta pripravíme jednoduchým predspracovaním:\n",
    "* odstránime identifikátor zákazníka\n",
    "* zakódujeme atribút pohlavie"
   ]
  },
  {
   "cell_type": "code",
   "execution_count": null,
   "metadata": {},
   "outputs": [],
   "source": [
    "# YOUR CODE HERE"
   ]
  },
  {
   "cell_type": "markdown",
   "metadata": {},
   "source": [
    "Rovnako ako v predošlom príklade identifikujeme vhodný počet zhlukov a natrénujeme model K-Means pre zvolený počet. Skúsime použiť obe kritériá  - aj `inertia` aj `silhouette` pre rozhodnutie. "
   ]
  },
  {
   "cell_type": "code",
   "execution_count": null,
   "metadata": {},
   "outputs": [],
   "source": [
    "from sklearn.cluster import KMeans\n",
    "from sklearn.metrics import silhouette_score\n",
    "\n",
    "results_inertia = []\n",
    "results_silhouette = []\n",
    "\n",
    "K = range(2,10)\n",
    "\n",
    "for k in K:\n",
    "    model = KMeans(n_clusters=k)\n",
    "    model.fit(data)\n",
    "    predictions = model.predict(data)\n",
    "    results_inertia.append(model.inertia_)\n",
    "    results_silhouette.append(silhouette_score(data, predictions))\n",
    "    \n",
    "print(\"Skore Inertia:\")\n",
    "print(results_inertia)\n",
    "print(\"Skore Silhouette:\")\n",
    "print(results_silhouette)"
   ]
  },
  {
   "cell_type": "markdown",
   "metadata": {},
   "source": [
    "Aby sme mali lepší prehľad, môžeme si oba grafy vykresliť. Pomocou `subplot()` vieme vykresliť oba grafy súčasne vedľa seba."
   ]
  },
  {
   "cell_type": "code",
   "execution_count": null,
   "metadata": {},
   "outputs": [],
   "source": [
    "plt.figure(figsize=(12, 4)) # definujeme veľkosť obrázku (trocha natiahnuť do šírky, kvôli vykresleniu 2 vedľa seba)\n",
    "plt.subplot(1, 2, 1) # 1-2-1 znamená, že vytvoríme 1 riadok, 2 stĺpce a kresliť budeme do 1.\n",
    "plt.plot(K, results_inertia, 'bx-')\n",
    "plt.xlabel('Pocet zhlukov')\n",
    "plt.ylabel('Suma stvorcov vzdialenosti')\n",
    "plt.title('Inertia')\n",
    "\n",
    "plt.subplot(1, 2, 2) # 1-2-2 znamená, že vytvoríme 1 riadok, 2 stĺpce a kresliť budeme do 2.\n",
    "plt.plot(K, results_silhouette, 'bx-')\n",
    "plt.xlabel('Pocet zhlukov')\n",
    "plt.ylabel('Silhouette')\n",
    "plt.title('Silhouette')\n",
    "\n",
    "plt.show() # show funkciu zavoláme až nakoniec, čím vykreslíme oba grafy naraz"
   ]
  },
  {
   "cell_type": "markdown",
   "metadata": {},
   "source": [
    "Ideálny počet zhlukov sme odhalili a teraz natrénujeme K-Means model s daným počtom zhlukov. POužijeme natrénovaný model a príklady zatriedime do zhlukov. Vytvorenú premennú tak použijeme pre klasifikačný model pre popis zhlukov."
   ]
  },
  {
   "cell_type": "code",
   "execution_count": null,
   "metadata": {},
   "outputs": [],
   "source": [
    "model = KMeans(n_clusters=6)\n",
    "model.fit(data)\n",
    "labels = model.predict(data)"
   ]
  },
  {
   "cell_type": "code",
   "execution_count": null,
   "metadata": {},
   "outputs": [],
   "source": [
    "# vypíšeme predikcie modelu\n",
    "\n",
    "print(labels)"
   ]
  },
  {
   "cell_type": "markdown",
   "metadata": {},
   "source": [
    "Teraz natrénujeme klasifikátor, ktorým zhluky popíšeme."
   ]
  },
  {
   "cell_type": "code",
   "execution_count": null,
   "metadata": {},
   "outputs": [],
   "source": [
    "from sklearn.tree import DecisionTreeClassifier\n",
    "from sklearn.metrics import confusion_matrix\n",
    "\n",
    "dt = DecisionTreeClassifier(max_depth=4)   # Inicializácia stromového modelu   \n",
    "dt.fit(data, labels)        # Trénovanie modelu na trénovacej množine \n",
    "\n",
    "y_dt = dt.predict(data)       # Otestovanie modelu na testovacej množine\n",
    "\n",
    "from sklearn.metrics import accuracy_score,precision_score, recall_score # vypočítanie metrík kvality modelu\n",
    "\n",
    "print(f\"Presnosť (accuracy) modelu: {accuracy_score(labels, y_dt)}\")\n",
    "\n",
    "cm = confusion_matrix(labels, y_dt)  # vypísanie kontigenčnej tabuľky\n",
    "print(cm)"
   ]
  },
  {
   "cell_type": "markdown",
   "metadata": {},
   "source": [
    "Stromový model vykreslíme pre odhadnutie pravidiel pre dané zhluky. Pokúsime sa odvodiť pravidlá pre popis jednotlivých zhlukov."
   ]
  },
  {
   "cell_type": "code",
   "execution_count": null,
   "metadata": {},
   "outputs": [],
   "source": [
    "from sklearn import tree\n",
    "from sklearn.tree import export_graphviz\n",
    "\n",
    "with open(\"decision_tree.txt\", \"w\") as f:\n",
    "    f = tree.export_graphviz(dt, feature_names=data.columns.values, class_names=[\"0\",\"1\",\"2\",\"3\",\"4\",\"5\"], out_file=f)"
   ]
  },
  {
   "cell_type": "markdown",
   "metadata": {},
   "source": [
    "### Úloha 13.6:\n",
    "\n",
    "Pokúste sa pre identifikované zhluky vytvoriť aj vizualizácie priemerných hodnôt ich číselných atribútov. Porovnajte tieto s extrahovanými pravidlami, resp. so znalosťami viditeľnými zo stromovej štruktúry modelu. "
   ]
  },
  {
   "cell_type": "code",
   "execution_count": null,
   "metadata": {},
   "outputs": [],
   "source": [
    "# YOUR CODE HERE"
   ]
  }
 ],
 "metadata": {
  "kernelspec": {
   "display_name": "Python 3",
   "language": "python",
   "name": "python3"
  },
  "language_info": {
   "codemirror_mode": {
    "name": "ipython",
    "version": 3
   },
   "file_extension": ".py",
   "mimetype": "text/x-python",
   "name": "python",
   "nbconvert_exporter": "python",
   "pygments_lexer": "ipython3",
   "version": "3.7.1"
  }
 },
 "nbformat": 4,
 "nbformat_minor": 2
}
