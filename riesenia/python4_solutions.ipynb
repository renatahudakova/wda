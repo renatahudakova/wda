{
 "cells": [
  {
   "cell_type": "markdown",
   "metadata": {},
   "source": [
    "## Úlohy"
   ]
  },
  {
   "cell_type": "markdown",
   "metadata": {},
   "source": [
    "### Úloha 4.1\n",
    "\n",
    "Do premennej `data` priraďte mapu, kde kľúč bude názov stĺpca v nasledujúcej tabuľke (napr. `Name` atď.) a hodnota bude zoznam všetkých hodnôt v danom stĺpci.\n",
    "\n",
    "| Name   | Position       | Salary |\n",
    "|--------|----------------|--------|\n",
    "| John   | tester         | 1500   |\n",
    "| Jack   | developer      | 2500   |\n",
    "| Hannah | CEO            | 105000 |\n",
    "| Jane   | data scientist | 3500   |\n",
    "\n",
    "Potom v cykle vypíšte hodnoty pre všetky stĺpce na treťom riadku (záznam o Hannah)."
   ]
  },
  {
   "cell_type": "code",
   "execution_count": 12,
   "metadata": {},
   "outputs": [
    {
     "name": "stdout",
     "output_type": "stream",
     "text": [
      "Name Hannah\n",
      "Position CEO\n",
      "Salary 105000\n"
     ]
    }
   ],
   "source": [
    "data = {\"Name\": [\"John\", \"Jack\", \"Hannah\", \"Jane\"],\n",
    "        \"Position\": [\"tester\", \"developer\", \"CEO\", \"data scientist\"],\n",
    "        \"Salary\": [1500, 2500, 105000, 3500]}\n",
    "\n",
    "# zoznam kľúčov v mape (tzn. zoznam názvov stĺpcov v našom príklade) môžeme získať metódou map.keys()\n",
    "# poradie kľúčov v mape však nie je definované, a nemusí zodpovedať poradiu v akom boli kľúče pridané do mapy,\n",
    "# alebo v akom sme ich definovali pri vytváraní mapy\n",
    "# preto je vhodné vypisovať hodnoty v definovanom poradí, napr. môžeme kľúče najprv usporiadať pomocou funkcie sorted podľa abecedy\n",
    "\n",
    "for column in sorted(data.keys()): # usporiadame názvy stĺpcov podľa abecedy\n",
    "    print(column, data[column][2]) # vypíšeme hodnotu pre daný stĺpec na 3 riadku (index 2)"
   ]
  },
  {
   "cell_type": "markdown",
   "metadata": {},
   "source": [
    "### Úloha 4.2\n",
    "\n",
    "Pomocou množiny odstráňte z nasledujúceho zoznamu duplicitné hodnoty a vypíšte prvky podľa abecedy."
   ]
  },
  {
   "cell_type": "code",
   "execution_count": 6,
   "metadata": {},
   "outputs": [
    {
     "data": {
      "text/plain": [
       "['apple', 'avocado', 'banana', 'orange', 'pear']"
      ]
     },
     "execution_count": 6,
     "metadata": {},
     "output_type": "execute_result"
    }
   ],
   "source": [
    "basket = [\"apple\", \"orange\", \"apple\", \"pear\", \"orange\", \"apple\", \"banana\", \"banana\", \"avocado\"]\n",
    "basket = sorted(set(basket)) # funkcia set vytvorí množinu zo zadaných hodnôt (v našom prípade prvkov zoznamu basket)\n",
    "                             # hodnoty potom usporiadame funkciou sorted, ktorá vráti usporiadaný zoznam hodnôt\n",
    "basket"
   ]
  },
  {
   "cell_type": "markdown",
   "metadata": {},
   "source": [
    "### Úloha 4.3\n",
    "\n",
    "Pomocou mapy v cykle spočítajte koľkokrát sa vyskytovali v nasledujúcom zozname rôzne hodnoty a vypíšte zoznam rôznych hodnôt a ich početnosti."
   ]
  },
  {
   "cell_type": "code",
   "execution_count": 7,
   "metadata": {},
   "outputs": [
    {
     "data": {
      "text/plain": [
       "{'apple': 3, 'orange': 2, 'pear': 1, 'banana': 2, 'avocado': 1}"
      ]
     },
     "execution_count": 7,
     "metadata": {},
     "output_type": "execute_result"
    }
   ],
   "source": [
    "basket = [\"apple\", \"orange\", \"apple\", \"pear\", \"orange\", \"apple\", \"banana\", \"banana\", \"avocado\"]\n",
    "\n",
    "counts = {} # inicializujeme si prázdnu mapu do ktorej budeme postupne pripočítavať výskyty hodnôt\n",
    "# kľúč mapy bude hodnota zoznamu, a hodnota mapy bude počet výskytov\n",
    "for v in basket: # prejdeme všetky prvky zoznamu\n",
    "    if v in counts: # ak sa už hodnota nachádza v mape ako kľúč, pripočítame k jej počtu výskytov 1\n",
    "        counts[v] += 1\n",
    "    else:\n",
    "        counts[v] = 1 # inak ide o prvý výskyt hodnoty, a počet pre danú hodnotu (kľúč) inicializujeme na 1\n",
    "\n",
    "counts"
   ]
  },
  {
   "cell_type": "markdown",
   "metadata": {},
   "source": [
    "### Úloha 4.4\n",
    "\n",
    "Vypíšte aktuálny čas vo formáte `[hodina 00-23]:[minúta 00-59]` a aktuálny deň v týždni (napr. pondelok, utorok, atď.)"
   ]
  },
  {
   "cell_type": "code",
   "execution_count": 8,
   "metadata": {},
   "outputs": [
    {
     "name": "stdout",
     "output_type": "stream",
     "text": [
      "21:27\n",
      "štvrtok\n",
      "štvrtok\n"
     ]
    }
   ],
   "source": [
    "# naimportujeme si z modulu datetime typ datetime\n",
    "from datetime import datetime\n",
    "\n",
    "now = datetime.now() # získame aktuálny čas a dátum\n",
    "print(now.strftime(\"%H:%M\")) # vypíšeme iba čas vo formáte [hodina 00-23]:[minúta 00-59]\n",
    "\n",
    "day_of_week = now.isoweekday() # získame deň v týždni ako číslo (1 - pondelok, 2 - utorok, atď.)\n",
    "# názov dňa môžeme vypísať cez príkaz vetvenia\n",
    "if day_of_week == 1:\n",
    "    print(\"pondelok\")\n",
    "elif day_of_week == 2:\n",
    "    print(\"utorok\")\n",
    "elif day_of_week == 3:\n",
    "    print(\"streda\")\n",
    "elif day_of_week == 4:\n",
    "    print(\"štvrtok\")\n",
    "elif day_of_week == 5:\n",
    "    print(\"piatok\")\n",
    "elif day_of_week == 6:\n",
    "    print(\"sobota\")\n",
    "elif day_of_week == 7:\n",
    "    print(\"nedeľa\")\n",
    "\n",
    "# avšak, jednoduchšie je si priradiť názvy do mapy, ktorá mapuje číslo dňa v týždni na jeho názov\n",
    "day_names = {1: \"pondelok\", 2: \"utorok\", 3: \"streda\", 4: \"štvrtok\", 5: \"piatok\", 6: \"sobota\", 7: \"nedeľa\"}\n",
    "# vypíšeme hodnotu (názov dňa) pre zadaný kľúč (číslo dňa v týždni)\n",
    "print(day_names[day_of_week])"
   ]
  },
  {
   "cell_type": "markdown",
   "metadata": {},
   "source": [
    "### Úloha 4.5\n",
    "Na vstupe máte zadaný nasledujúci text:"
   ]
  },
  {
   "cell_type": "code",
   "execution_count": 9,
   "metadata": {},
   "outputs": [],
   "source": [
    "text = \"\"\"Bridgekeeper: Hee hee heh. Stop. What... is your name?\n",
    "King Arthur: It is 'Arthur', King of the Britons.\n",
    "Bridgekeeper: What... is your quest?\n",
    "King Arthur: To seek the Holy Grail.\n",
    "Bridgekeeper: What... is the air-speed velocity of an unladen swallow?\n",
    "King Arthur: What do you mean? An African or European swallow?\"\"\""
   ]
  },
  {
   "cell_type": "markdown",
   "metadata": {},
   "source": [
    "Napíšte skript, ktorý:\n",
    "1. Rozdelí text na riadky a slová. Slová prevedie na malé písmená a odstráni z textu diakritiku (' ... ?).\n",
    "2. Vypíše zoznam slov usporiadaný podľa abecedy s frekvenciami, koľkokrát slovo povedal kráľ Arthur, koľkokrát strážca mostu a aká bola frekvencia celkovo, napr.:\n",
    "```\n",
    "african   1  0  1\n",
    "air-speed 1  0  0\n",
    "an        1  1  2\n",
    "arthur    1  0  1\n",
    "...\n",
    "```"
   ]
  },
  {
   "cell_type": "code",
   "execution_count": null,
   "metadata": {},
   "outputs": [],
   "source": []
  }
 ],
 "metadata": {
  "kernelspec": {
   "display_name": "Python 3",
   "language": "python",
   "name": "python3"
  },
  "language_info": {
   "codemirror_mode": {
    "name": "ipython",
    "version": 3
   },
   "file_extension": ".py",
   "mimetype": "text/x-python",
   "name": "python",
   "nbconvert_exporter": "python",
   "pygments_lexer": "ipython3",
   "version": "3.7.2"
  }
 },
 "nbformat": 4,
 "nbformat_minor": 2
}
