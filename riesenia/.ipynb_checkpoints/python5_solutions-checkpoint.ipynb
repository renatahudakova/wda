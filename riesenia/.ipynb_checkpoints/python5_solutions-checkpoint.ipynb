{
 "cells": [
  {
   "cell_type": "markdown",
   "metadata": {},
   "source": [
    "## Úlohy"
   ]
  },
  {
   "cell_type": "markdown",
   "metadata": {},
   "source": [
    "### Úloha 5.1\n",
    "\n",
    "Napíšte funkciu `find_value(l, value)`, ktorá vráti pozíciu prvého výskytu prvku zoznamu `l` so zadanou hodnotou `value`, alebo -1 ak sa taký prvok v zozname nenachádza. Pri riešení využite kód z úlohy 3.6."
   ]
  },
  {
   "cell_type": "code",
   "execution_count": 6,
   "metadata": {},
   "outputs": [
    {
     "name": "stdout",
     "output_type": "stream",
     "text": [
      "2\n",
      "-1\n"
     ]
    }
   ],
   "source": [
    "def find_value(l, value):\n",
    "    index = -1\n",
    "    for i, v in enumerate(l):\n",
    "        if v == value:\n",
    "            # našli sme požadovanú hodnotu, nastavíme do index jej pozíciu a prerušíme cyklus\n",
    "            index = i\n",
    "            break\n",
    "    return index\n",
    "\n",
    "# v tomto prípade si nemusíme pamätať index v pomocnej premennej, ak nájdeme v zozname danú hodnotu, cyklus a funkciu môžeme ukončiť\n",
    "# príkazom return a vrátit priamo index hodnoty\n",
    "def find_value(l, value):\n",
    "    for i, v in enumerate(l):\n",
    "        if v == value:\n",
    "            # našli sme požadovanú hodnotu, priamo ukončíme funkciu a vrátime index hodnoty\n",
    "            return i\n",
    "    return -1 # prešli sme všetky prvky do konca, ale hodnotu sme nenašli, takže vrátime -1\n",
    "\n",
    "# volanie funkcie otestujeme na nasledujúcich príkladoch\n",
    "numbers = [0, 1, 2, 3]\n",
    "i = find_value(numbers, 2)\n",
    "print(i) # = 2\n",
    "i = find_value([], 2)\n",
    "print(i) # = -1\n",
    "\n",
    "# funkciu find_values(l, value) môžeme volať aj nasledovne\n",
    "i = find_value(numbers, value=2) # parameter l je zadaný na 1 pozícii, value cez názov\n",
    "i = find_value(l=numbers, value=2) # oba parametre sú zadané cez názov\n",
    "i = find_value(value=2, l=numbers) # ak parametre zadávame cez názov, nemusia byť uvedené v poradí v akom sú definované vo funkcii\n",
    "\n",
    "# nasledujúci zápis by však skončil chybou SyntaxError, pretože ak uvedieme aspoň jeden parameter na jeho pozícii, musíme všetky\n",
    "# predchádzajúce parametre tiež zadať na ich pozícii a nie podľa názvu\n",
    "# i = find_value(l=numbers, value)"
   ]
  },
  {
   "cell_type": "markdown",
   "metadata": {},
   "source": [
    "### Úloha 5.2\n",
    "Napíšte funkciu `count_values(l)`, ktorá spočíta koľkokrát sa vyskytovali rôzne hodnoty v zozname `l` a vráti mapu s dvojicami (hodnota, početnosť). Pri riešení využite kód z úlohy 4.3."
   ]
  },
  {
   "cell_type": "code",
   "execution_count": 7,
   "metadata": {},
   "outputs": [
    {
     "data": {
      "text/plain": [
       "{1: 2, 2: 2, 3: 2, 4: 3}"
      ]
     },
     "execution_count": 7,
     "metadata": {},
     "output_type": "execute_result"
    }
   ],
   "source": [
    "def count_values(l):\n",
    "    counts = {}\n",
    "    for v in l:\n",
    "        if v in counts:\n",
    "            counts[v] += 1\n",
    "        else:\n",
    "            counts[v] = 1\n",
    "    return counts\n",
    "\n",
    "c = count_values([1,2,1,2,3,3,4,4,4])\n",
    "c"
   ]
  },
  {
   "cell_type": "markdown",
   "metadata": {},
   "source": [
    "### Úloha 5.3\n",
    "\n",
    "Upravte funkciu `find_values` z úlohy 5.1 tak, že pridáte parameter `default_index` s prednastavenou hodnotou -1, ktorého hodnota sa vráti ak sa hodnota `value` v zozname nenájde.  "
   ]
  },
  {
   "cell_type": "code",
   "execution_count": 8,
   "metadata": {},
   "outputs": [
    {
     "name": "stdout",
     "output_type": "stream",
     "text": [
      "None\n"
     ]
    }
   ],
   "source": [
    "def find_value(l, value, default_index=-1):\n",
    "    for i, v in enumerate(l):\n",
    "        if v == value:\n",
    "            return i\n",
    "    return default_index\n",
    "\n",
    "# funkciu find_values(l, value, default_index=-1) môžeme volať aj nasledovne\n",
    "i = find_value([], 2) # vynechali sme default_index, a funkcii sa predá jeho prednastavená hodnota\n",
    "i = find_value([], 2, None) # predefinovali sme parameter default_index, ktorý sme zadali na jeho pozícii\n",
    "i = find_value([], 2, default_index=None) # predefinovali sme parameter default_index, ktorý sme zadali podľa jeho názvu\n",
    "print(i) # = None"
   ]
  },
  {
   "cell_type": "markdown",
   "metadata": {},
   "source": [
    "### Úloha 5.4\n",
    "\n",
    "Rozdeľte riešenie úlohy 3.1 na jednoduchšie podúlohy pre ktoré naprogramujte potrebné funkcie."
   ]
  },
  {
   "cell_type": "code",
   "execution_count": 12,
   "metadata": {},
   "outputs": [
    {
     "name": "stdout",
     "output_type": "stream",
     "text": [
      "[['power', 'weight', 'hybrid', 'producer'], [55.3, 1450, False, 'ford'], [100, 2500, False, 'ford'], [60.5, 1150, True, 'toyota'], [56, None, False, 'volkswagen'], [75.2, 1480, False, 'volkswagen'], [80.1, 1630, False, 'peugeot']]\n",
      "power min: 55.3000, max: 100.0000, avg: 71.1833\n",
      "weight min: 1150.0000, max: 2500.0000, avg: 1642.0000\n",
      "['ford', 'ford', 'peugeot', 'toyota', 'volkswagen', 'volkswagen']\n"
     ]
    }
   ],
   "source": [
    "def convert_value(s, none_value=\"?\", string_delimiter=\"'\", decimal_point=\".\"):\n",
    "    \"\"\"\n",
    "    Funkcia prevedie reťazec na typ Pythonu.\n",
    "\n",
    "    Parametre:\n",
    "    s - konvertovaný reťazec\n",
    "    none_value - reťazec použitý pre označenie prázdnych hodnôt (prednastavená hodnota ?). \n",
    "    string_delimiter - znak použitý na ohraničenie reťazcov (prednastavená hodnota ').\n",
    "    decimal_point - znak pre označenie desatinnej čiarky (prednastavená hodnota .).\n",
    "    \n",
    "    Návratová hodnota:\n",
    "    skonvertovaná dátová hodnota Pythonu\n",
    "    \"\"\"\n",
    "    \n",
    "    # najprv odstránime z reťazca prázdne znaky zo začiatku a konca\n",
    "    value = s.strip()\n",
    "    if value == none_value:  # skonvertujeme jednoduché hodnoty None, True a False\n",
    "        value = None\n",
    "    elif value == \"true\":\n",
    "        value = True\n",
    "    elif value == \"false\":\n",
    "        value = False\n",
    "    elif value.startswith(string_delimiter): # ak je hodnota ohraničená oddeľovacím znakom, tak je to reťazec\n",
    "        value = value[1:-1] # odstránime z neho ohraničujúce znaky (prvý a posledný - predpokladáme, že string_delimiter má iba jeden znak)\n",
    "    elif value.find(decimal_point) >= 0:  # inak je to číslo, ak obsahuje desatinnú čiarku, prevedieme ho na float, inak na int\n",
    "        value = float(value)\n",
    "    else:\n",
    "        value = int(value)\n",
    "    return value\n",
    "\n",
    "def parse_data(s, delimiter=\";\"):\n",
    "    \"\"\"\n",
    "    Funkcia rozdelí reťazec na riadky tabuľky, každý riadok rozdelí na hodnoty a hodnoty prevedie na typ Pythonu.\n",
    "    \n",
    "    Parametre:\n",
    "    s - konvertovaný reťazec\n",
    "    delimiter - oddeľovač hodnôt (prednastavená hodnota ;)\n",
    "    \n",
    "    Návratová hodnota:\n",
    "    skonvertovaná tabuľka reprezentovaná ako zoznam riadkov s vnorenými zoznamami hodnôt pre každý riadok\n",
    "    \"\"\"\n",
    "    # najprv si text rozdelíme na riadky a každý riadok rozdelíme na hodnoty\n",
    "    lines = s.split(\"\\n\")\n",
    "    rows = []\n",
    "    for line in lines:\n",
    "        rows.append(line.split(delimiter))\n",
    "\n",
    "    # skonvertujeme hodnoty z reťazcov na typy Pythonu\n",
    "    for row in rows:\n",
    "        for i, value in enumerate(row): # budeme chcieť zmeniť hodnotu, takže budeme potrebovať jej index\n",
    "            row[i] = convert_value(value) # skonvertujeme hodnotu na typ Pythonu volaním funkcie convert_value s prednastavenými hodnotami\n",
    "                                           # parametrov pre označenie prázdnych hodnôt, oddeľovač reťazcov a desatinnú čiarku\n",
    "    return rows # vrátime skonvertované dáta\n",
    "\n",
    "\n",
    "def compute_stats(rows, column):\n",
    "    \"\"\"\n",
    "    Funkcia vypočíta základné štatistiky: minimum, maximum a priemernú hodnotu pre zadaný stĺpec tabuľky.\n",
    "\n",
    "    Parametre:\n",
    "    rows - tabuľka zadaná ako zoznam riadkov s vnorenými zoznamami hodnôt pre každý riadok\n",
    "    column - index stĺpca pre ktorý sa majú vypočítať štatistiky\n",
    "    \n",
    "    Návratová hodnota:\n",
    "    n-tica (minimum, maximum, priemer)\n",
    "    \"\"\"\n",
    "    # v jednom cykle vypočítame min, max a priemernú hodnotu\n",
    "    sum = 0\n",
    "    min = None\n",
    "    max = None\n",
    "    count = 0\n",
    "    \n",
    "    for row in rows:\n",
    "        value = row[column]\n",
    "        if value is None: # preskočíme chýbajúce hodnoty  \n",
    "            continue\n",
    "        if min is None or value < min:  # ak sme ešte nepriradili do min žiadnu hodnotu, alebo ak je hodnota v riadku menšia než minimum, priradíme ju do min\n",
    "            min = value\n",
    "        if max is None or value > max:  # podobne ak sme ešte nepriradili max, alebo je hodnota väčšia než max, priradíme ju do max \n",
    "            max = value\n",
    "        sum += value # pripočítame hodnotu do sumy pre priemer\n",
    "        count += 1 # spočítame počet neprázdnych hodnôt z ktorých počítame priemer\n",
    "\n",
    "    avg = sum / count if count > 0 else None # pre priemer vrátime None ak sme nenašli žiadnu neprázdnu hodnotu    \n",
    "    return (min, max, avg) # vrátime n-ticu vypočítaných hodnôt\n",
    "\n",
    "# po definovaní funkcií nasleduje hlavný program\n",
    "\n",
    "data = \"\"\"'power'; 'weight'; 'hybrid'; 'producer'\n",
    "55.3; 1450; false; 'ford'\n",
    "100; 2500; false; 'ford'\n",
    "60.5; 1150; true; 'toyota'\n",
    "56; ?; false; 'volkswagen'\n",
    "75.2; 1480; false; 'volkswagen'\n",
    "80.1; 1630; false; 'peugeot'\"\"\"\n",
    "\n",
    "rows = parse_data(data)\n",
    "# pre kontrolu si zobrazíme skonvertované dáta (print zobrazí aj ohraničenie Python reťazcov '', ale hodnoty už neobsahujú ')\n",
    "print(rows)\n",
    "\n",
    "# z rows odstránime prvý riadok (hlavičku tabuľky s názvami stĺpcov)\n",
    "del(rows[0])\n",
    "\n",
    "min, max, avg = compute_stats(rows, 0) # vypočítame min, max a priemernú hodnotu pre prvý stĺpec (power)\n",
    "print(\"power min: {0:.4f}, max: {1:.4f}, avg: {2:.4f}\".format(min, max, avg))\n",
    "min, max, avg = compute_stats(rows, 1) # vypočítame min, max a priemernú hodnotu pre druhý stĺpec (weight)\n",
    "print(\"weight min: {0:.4f}, max: {1:.4f}, avg: {2:.4f}\".format(min, max, avg))\n",
    "\n",
    "# pre textový stĺpec producer zozbierame zoznam hodnôt\n",
    "values = []\n",
    "for row in rows:\n",
    "    values.append(row[3]) # štvrtý stĺpec\n",
    "values.sort() # usporiadame hodnoty\n",
    "print(values)"
   ]
  },
  {
   "cell_type": "markdown",
   "metadata": {},
   "source": [
    "### Úloha 5.5\n",
    "\n",
    "Rozdeľte riešenie úlohy 4.5 na jednoduchšie podúlohy pre ktoré naprogramujte potrebné funkcie."
   ]
  },
  {
   "cell_type": "code",
   "execution_count": null,
   "metadata": {},
   "outputs": [],
   "source": []
  }
 ],
 "metadata": {
  "kernelspec": {
   "display_name": "Python 3",
   "language": "python",
   "name": "python3"
  },
  "language_info": {
   "codemirror_mode": {
    "name": "ipython",
    "version": 3
   },
   "file_extension": ".py",
   "mimetype": "text/x-python",
   "name": "python",
   "nbconvert_exporter": "python",
   "pygments_lexer": "ipython3",
   "version": "3.7.2"
  }
 },
 "nbformat": 4,
 "nbformat_minor": 2
}
