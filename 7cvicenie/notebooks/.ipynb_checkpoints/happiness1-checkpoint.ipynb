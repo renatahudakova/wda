{
 "cells": [
  {
   "cell_type": "markdown",
   "metadata": {},
   "source": [
    "## Základné nastavenia\n",
    "\n",
    "Pri analýze dát budeme používať viacero knižníc, ktoré je na začiatku potrebné naimportovať do Vášho zápisníka. Knižnica `numpy` poskytuje základné typy, ako sú napr. dátové polia reprezentujúce numerické vektory hodnôt, alebo matice. Pri analýze dát budeme najčastejšie pracovať s knižnicou `pandas`, ktorá rozširuje `numpy` a definuje základné typy pre reprezentáciu dátových tabuliek a ich stĺpcov. Knižnice `mathplotlib` a `seaborn` budeme používať na vykresľovanie grafov, ktoré sa zobrazia priamo ako súčasť zápisníka."
   ]
  },
  {
   "cell_type": "code",
   "execution_count": null,
   "metadata": {},
   "outputs": [],
   "source": [
    "# importujeme potrebné knižnice, tento odstavec by mal byť spustený ako prvý predtým ako sa budú používať\n",
    "# importované objekty pd, np, plt a sns\n",
    "import pandas as pd\n",
    "import numpy as np\n",
    "import matplotlib.pyplot as plt\n",
    "import seaborn as sns\n",
    "\n",
    "# nastavíme zobrazovanie grafov priamo v odstavcoch zápisníka\n",
    "%matplotlib inline\n",
    "# inicializujeme knižnicu seaborn\n",
    "sns.set()"
   ]
  },
  {
   "cell_type": "markdown",
   "metadata": {},
   "source": [
    "## Dátová množina - Správa o šťastí sveta\n",
    "\n",
    "Správu o šťastí sveta vydáva každoročne organizácia spojených národov a je založená na dátach dotazníkového prieskumu, ktoré sú zozbierané z reprezentatívnej vzorky obyvateľov jednotlivých krajín. Dotazníkový prieskum sa zameriava na hodnotenie vlastného života na základe viacerých kritérií, ktoré zahŕňajú ekonomické ukazovatele, sociálnu starostlivosť, zdravotníctvo, slobodu rozhodovania, vnímanie dobrosrdečnosti medzi ľuďmi a vnímanie korupcie.\n",
    "\n",
    "![World Happiness Record](whr-2017-happy.jpg)\n",
    "[Zdroj](http://unsdsn.org/news/2017/03/20/fifth-world-happiness-report-2017-ranks-happiest-countries/)\n",
    "\n",
    "Dáta ktoré máte k dispozícii sú vyhodnotené za roky 2015, 2016 a 2017 a sú popísané nasledujúcimi atribútmi:\n",
    "\n",
    "* `Country` - Názov krajiny\n",
    "* `Region` - Geopolitický región krajiny\n",
    "* `Rank` - Celkové umiestnenie v rebríčku krajín za daný rok, podľa dosiahnutého skóre\n",
    "* `Score` - Dosiahnuté skóre vyjadrujúce celkové šťastie v krajine\n",
    "* `GDP` - Ekonomická situácia - hrubý národný produkt na obyvateľa\n",
    "* `Family` - Sociálna podpora rodiny\n",
    "* `Health` - Stav zdravotníctva - očakávaná dĺžka života\n",
    "* `Freedom` - Sloboda prejavuje a rozhodovania\n",
    "* `Trust` - Vnímanie korupcie\n",
    "* `Generosity` - Vnímanie dobrosrdečnosti\n",
    "\n",
    "Do celkového hodnotenia je zahrnutý rozdiel medzi danou krajinou a _Distópiou_ - hypotetickou krajinou, ktorá má najnižšie hodnotenie pre všetky ukazovatele (tzn. žiadna krajina na tom nemôže byť horšie ako Distópia).\n",
    "\n",
    "### Načítanie dát a základné štatistiky\n",
    "\n",
    "Dátová tabuľka je v knižnici `pandas` reprezentovaná typom `DataFrame` (_dátový rámec_), ktorý je zložený z jednotlivých stĺpcov reprezentovaných typom `Series` (_dátová postupnosť_). `pandas` priamo podporuje načítanie a zápis dát v štandardných formátoch ako napr. `.csv` (_Comma-Separated Values_ - textový formát s hodnotami oddelenými čiarkou)."
   ]
  },
  {
   "cell_type": "code",
   "execution_count": null,
   "metadata": {},
   "outputs": [],
   "source": [
    "# načítame dáta za rok 2015 zo súboru 2015.csv\n",
    "data_2015 = pd.read_csv(\"../data/2015.csv\")\n",
    "\n",
    "# zobrazíme si názvy stĺpcov (vlasnosť columns je objekt typu pandas.Index, ktorý reprezentuje postupnosť indexov pre\n",
    "# riadky, alebo stĺpce tabuľky, pristupuje sa k nemu podobne ako ku zoznamu)\n",
    "data_2015.columns"
   ]
  },
  {
   "cell_type": "markdown",
   "metadata": {},
   "source": [
    "K dátam sa pristupuje rovnako ako pri zoznamoch, alebo mapách indexovaním. Stĺpce sú štandardne indexované podľa ich názvu a hodnoty v stĺpcoch podľa číselného indexu riadku tabuľky (od 0). Pre každý číselný stĺpec môžeme priamo vypočítať základné štatistiky, ako napr. počet neprázdnych hodnôt, minimum, maximum, priemer, štandardnú odchýlku a kvantily."
   ]
  },
  {
   "cell_type": "code",
   "execution_count": null,
   "metadata": {},
   "outputs": [],
   "source": [
    "# rozmer dátovej tabuľky zistíme z vlastnosti shape\n",
    "print(data_2015.shape[0]) # prvý rozmer - počet riadkov\n",
    "print(data_2015.shape[1]) # druhý rozmer - počet stĺpcov\n",
    "\n",
    "# k dátam pristupujeme indexovaním, napr. vypíšeme hodnotu stĺpca 'Country' na prvom riadku tabuľky (index 0)\n",
    "print(data_2015['Country'][0])\n",
    "\n",
    "scores = data_2015['Score'] # scores je objekt typu pandas.Series, ktorý reprezentuje jeden stĺpec tabuľky\n",
    "\n",
    "# pre číselné stĺpce môžeme vypočítať priamo základné štatistiky\n",
    "score_count = scores.count()      # počet neprázdnych hodnôt\n",
    "score_mean = scores.mean()        # priemerná hodnota\n",
    "score_std = scores.std()          # štandardná odchýlka výberu\n",
    "score_min = scores.min()          # minimálna hodnota\n",
    "score_max = scores.max()          # maximálna hodnota\n",
    "score_q25 = scores.quantile(0.25) # 25% kvartil\n",
    "score_q50 = scores.quantile(0.5)  # 50% kvartil - medián\n",
    "score_q75 = scores.quantile(0.75) # 75% kvartil\n",
    "\n",
    "# štatistiky pre všetky číselné atribúty tabuľky môžeme vypočítať aj naraz pomocou metódy describe()\n",
    "data_2015.describe()"
   ]
  },
  {
   "cell_type": "code",
   "execution_count": null,
   "metadata": {},
   "outputs": [],
   "source": [
    "# pre kategorické atribúty môžeme zobraziť zoznam rôznych hodnôt a ich početnosti\n",
    "# napr. pre 'Region'\n",
    "data_2015['Region'].value_counts()"
   ]
  },
  {
   "cell_type": "markdown",
   "metadata": {},
   "source": [
    "### Príprava dát\n",
    "\n",
    "Postupne načítame a upravíme dáta pre roky 2015, 2016 a 2017. Z tabuľky za rok 2015 odstránime stĺpec `StdError`, ktorý udáva štandardnú odchýlku odpovedí medzi obyvateľmi jedného štátu a ďalej ho nebudeme pri analýze používať."
   ]
  },
  {
   "cell_type": "code",
   "execution_count": null,
   "metadata": {},
   "outputs": [],
   "source": [
    "# stĺpce sa odstráňujú pomocou metódy drop\n",
    "# štandardne metóda drop nezmení pôvodný dátový rámec, ale vytvorí nový, takže si zmeníme premennu data_2015\n",
    "# na novú hodnotu\n",
    "data_2015 = data_2015.drop(columns=\"StdError\")\n",
    "# do tabuľky pridáme stĺpec 'Year', ktorého hodnotu nastavíme na 2015 pre všetky riadky\n",
    "data_2015[\"Year\"] = 2015\n",
    "# pomocou metódy head si zobrazíme prvé riadky tabuľky (štandardne metóda head vracia nový objekt DataFrame s prvými\n",
    "# 5 riadkami pôvodnej tabuľky)\n",
    "data_2015.head()"
   ]
  },
  {
   "cell_type": "markdown",
   "metadata": {},
   "source": [
    "Načítame dáta za rok 2016 z ktorých odstránime stĺpce `LowerConfidence` a `UpperConfidence` a pridáme stĺpec `Year` s hodnotou 2016 pre všetky riadky."
   ]
  },
  {
   "cell_type": "code",
   "execution_count": null,
   "metadata": {},
   "outputs": [],
   "source": [
    "# načítame dáta za rok 2016\n",
    "data_2016 = pd.read_csv(\"../data/2016.csv\")\n",
    "# ak v metóde drop nastavíme parameter inplace na True, stĺpec sa odstráni priamo v pôvodnom rámci a nevytvorí sa\n",
    "# nový, ako parameter columns môžete naraz zadať zoznam viacerých stĺpcov, ktoré sa majú odstrániť\n",
    "data_2016.drop(columns=[\"LowerConfidence\", \"UpperConfidence\"], inplace=True)\n",
    "# pridáme stĺpec Year\n",
    "data_2016[\"Year\"] = 2016\n",
    "\n",
    "# pre výpis riadkov môžete pre metódu head zadať počet riadkov, ktoré sa majú zobraziť\n",
    "data_2016.head(1) # vypíšeme 1 riadok"
   ]
  },
  {
   "cell_type": "markdown",
   "metadata": {},
   "source": [
    "Z výpisu si môžete všimnúť, že tabuľka za rok 2016 neobsahuje celkové skóre a poradie krajín (stĺpce `Score` a `Rank`). Keďže `Score` a `Rank` sú vypočítané spočítaním ostatných ukazovateľov, môžeme ich jednoducho dopočítať metódou `eval`. Pre metódu `eval` sa výraz pre výpočet hodnôt zadáva ako reťazec, ktorý môže obsahovať názvy existujúcich stĺpcov, konštanty (čísla, reťazce a pod.) a operátory `+`, `-`, `*`, `/`, `**`, `%`."
   ]
  },
  {
   "cell_type": "code",
   "execution_count": null,
   "metadata": {},
   "outputs": [],
   "source": [
    "# pridáme do tabuľky nový stĺpec Score, ktorého hodnotu pre každý riadok vypočítame ako súčet atribútov GDP, Family,\n",
    "# Health, Freedom, Trust, Generosity a Dystopia\n",
    "data_2016[\"Score\"] = data_2016.eval(\"GDP + Family + Health + Freedom + Trust + Generosity + Dystopia\")\n",
    "\n",
    "# stĺpec Rank sa určuje podľa celkového poradia krajín zoradených podľa skóre od najväčšieho po najmenšie\n",
    "# zoradíme si riadky tabuľky podľa skóre v zostupnom poradí\n",
    "data_2016.sort_values(by=\"Score\", ascending=False)\n",
    "# pre kontrolu si zobrazíme 3 prvé a 3 posledné krajiny\n",
    "data_2016.head(3)"
   ]
  },
  {
   "cell_type": "code",
   "execution_count": null,
   "metadata": {},
   "outputs": [],
   "source": [
    "# metóda tail vracia posledné riadky tabuľky\n",
    "data_2016.tail(3)"
   ]
  },
  {
   "cell_type": "code",
   "execution_count": null,
   "metadata": {},
   "outputs": [],
   "source": [
    "# keďže dáta máme zoradené zostupne podľa celkového skóre, hodnoty v stĺpci poradia Rank nastavíme na \n",
    "# postupnosť čísel 1, 2, ..., počet krajín (počet riadkov v tabuľke)\n",
    "data_2016[\"Rank\"] = range(1, data_2016.shape[0] + 1)"
   ]
  },
  {
   "cell_type": "markdown",
   "metadata": {},
   "source": [
    "### Úloha 7.1\n",
    "\n",
    "1. Do premennej `data_2017` načítajte dáta za rok 2017 zo súboru `2017.csv`.\n",
    "2. Odstráňte nepotrebné stĺpce `WhiskerHigh` a `WhiskerLow`.\n",
    "3. Pridajte stĺpec `Year` a nastavte jeho hodnotu na 2017 pre všetky riadky.\n",
    "4. Zobrazte prvý riadok tabuľky."
   ]
  },
  {
   "cell_type": "code",
   "execution_count": null,
   "metadata": {},
   "outputs": [],
   "source": [
    "data_2017 = None"
   ]
  },
  {
   "cell_type": "code",
   "execution_count": null,
   "metadata": {},
   "outputs": [],
   "source": [
    "# pomocou metódy concat si spojíme dáta za všetky roky do jednej tabuľky, parameter sort=False a ignore_index=True\n",
    "# udáva, že sa riadky nemajú preusporiadať podľa ich pôvodných indexov a že sa zachová poradanie v akom sú uvedené\n",
    "# spájané tabuľky (tzn. najprv všetky riadky 2015, potom 2016 a na koniec 2017)\n",
    "data = pd.concat([data_2015, data_2016, data_2017], ignore_index=True, sort=False)\n",
    "data.head(1)"
   ]
  },
  {
   "cell_type": "markdown",
   "metadata": {},
   "source": [
    "### Výber dát\n",
    "\n",
    "Z tabuľky je možné vybrať iba niektoré stĺpce podľa názvu, alebo riadky podľa zadanej podmienky. Pre výber riadkov môžete použiť metódu `query` pri ktorej sa logická podmienka zadáva jednoducho ako reťazec podobne ako pri zadávaní výrazov v metóde `eval`."
   ]
  },
  {
   "cell_type": "code",
   "execution_count": null,
   "metadata": {},
   "outputs": [],
   "source": [
    "# vyberieme iba stĺpce Contry, Rank, Score a Year\n",
    "selected = data[[\"Country\", \"Rank\", \"Score\", \"Year\"]]\n",
    "\n",
    "# vyberieme iba riadky o Slovensku\n",
    "selected.query(\"Country == 'Slovakia'\")"
   ]
  },
  {
   "cell_type": "code",
   "execution_count": null,
   "metadata": {},
   "outputs": [],
   "source": [
    "# pri filtrovaní riadkov môžete zadať zložitejšiu podmienku s operátormi <, >, <=, >=, !=, ==, in [zoznam],\n",
    "# not in [zoznam] a s logickými spojkami and, or a not\n",
    "\n",
    "# napr. odfitrujeme riadky o našich susedoch za rok 2017 a výsledok usporiadame podľa celkového poradia krajín\n",
    "q = \"Country in ['Slovakia', 'Czech Republic', 'Poland', 'Hungary', 'Ukraine', 'Austria'] and Year == 2017\"\n",
    "selected.query(q).sort_values(by=\"Rank\")"
   ]
  },
  {
   "cell_type": "markdown",
   "metadata": {},
   "source": [
    "## Závislosti medzi atribútmi\n",
    "\n",
    "Jednou zo základných úloh vo fáze pochopenia dát je analyzovať závislosti medzi dvojicami atribútov."
   ]
  },
  {
   "cell_type": "markdown",
   "metadata": {},
   "source": [
    "### Závislosti medzi kategorickými a číselnými atribútmi\n",
    "\n",
    "Závislosti medzi kategorickými a číselnými atribútmi môžeme skúmať napr. pomocou _kontingenčnej tabuľky_, ktorá rozdelí dáta do skupín podľa hodnôt kategorických atribútov a zosumarizuje pre každú skupinu hodnoty číselných atribútov pomocou rôznych agregačných funkcií (napr. priemerná/minimálna/maximálne hodnota, štandardná odchýlka výberu atď.)\n",
    "\n",
    "Kontingenčnú tabuľku vytvoríme pomocou metódy `pivot_table`, kde musíme okrem dát zadať aspoň jeden kategorický atribút a jeden číselný."
   ]
  },
  {
   "cell_type": "code",
   "execution_count": null,
   "metadata": {},
   "outputs": [],
   "source": [
    "# napr. na výpočet priemerného skóre pre všetky krajiny v danom roku môžeme zadať\n",
    "pd.pivot_table(data, index=\"Year\", values=\"Score\")"
   ]
  },
  {
   "cell_type": "code",
   "execution_count": null,
   "metadata": {},
   "outputs": [],
   "source": [
    "# dáta môžeme zoskupiť podľa viacerých kategorických atribútov naraz,\n",
    "# napr. podľa regiónu a roku\n",
    "pd.pivot_table(data, index=[\"Region\", \"Year\"], values=\"Score\")"
   ]
  },
  {
   "cell_type": "code",
   "execution_count": null,
   "metadata": {},
   "outputs": [],
   "source": [
    "# kontingenčnú tabuľku môžeme preusporiadať presunutím niektorých kategorických atribútov z riadkov tabuľky\n",
    "# (parameter index) na stĺpce (parameter columns)\n",
    "# napr. predchádzajúcu tabuľku môžeme prehľadnejšie zobraziť nasledovne\n",
    "table = pd.pivot_table(data, index=\"Region\", columns=\"Year\", values=\"Score\")\n",
    "table"
   ]
  },
  {
   "cell_type": "code",
   "execution_count": null,
   "metadata": {},
   "outputs": [],
   "source": [
    "# hodnoty kontingenčnej tabuľky si môžeme priamo graficky zobraziť napr. ako horizontálny stĺpcový graf\n",
    "table.plot(kind=\"barh\")\n",
    "# nastavíme popis x-ovej osy\n",
    "l = plt.xlabel(\"Average Happiness Rank\")"
   ]
  },
  {
   "cell_type": "code",
   "execution_count": null,
   "metadata": {},
   "outputs": [],
   "source": [
    "# v jednej tabuľke môžete vypočítať viacero agregačných funkcií nastavením parametra aggfunc na zoznam funkcií,\n",
    "# napr. pre výpočet priemernej hodnoty a štandardnej odchýlky skóre pre každý región:\n",
    "pd.pivot_table(data, index=\"Region\", values=\"Score\", aggfunc=[\"mean\", \"std\"])"
   ]
  },
  {
   "cell_type": "code",
   "execution_count": null,
   "metadata": {},
   "outputs": [],
   "source": [
    "# môžete naraz vypočítať aj rôzne agregačné funkcie pre rôzne číselné atribúty\n",
    "# napr. v nasledujúcej tabuľke vypočítame priemernú hodnotu pre skóre (Score) a minimálnu a maximálnu hodnotu\n",
    "# pre poradie (Rank) pre každý región\n",
    "pd.pivot_table(data, index=\"Region\", values=[\"Score\", \"Rank\"], aggfunc={\"Score\": \"mean\", \"Rank\": [\"min\", \"max\"]})"
   ]
  },
  {
   "cell_type": "markdown",
   "metadata": {},
   "source": [
    "### Závislosti medzi číselnými atribútmi - korelácia\n",
    "\n",
    "Základným typom závislosti medzi dvoma číselnými atribútmi je lineárna závislosť, ktorú je možné vyjadriť (_Pearsonovym_) korelačným koeficientom."
   ]
  },
  {
   "cell_type": "code",
   "execution_count": null,
   "metadata": {},
   "outputs": [],
   "source": [
    "# vyberieme si iba číselné atribúty ukazovateľov\n",
    "factors = data[[\"GDP\", \"Family\", \"Health\", \"Freedom\", \"Trust\",  \"Generosity\"]]\n",
    "# pomocou metódy corr vypočítame korelačnú tabuľku\n",
    "corr_table = factors.corr()\n",
    "corr_table"
   ]
  },
  {
   "cell_type": "markdown",
   "metadata": {},
   "source": [
    "Hodnoty si môžeme graficky zobraziť pomocou grafu typu _teplotnej mapy_ (_heat map_)."
   ]
  },
  {
   "cell_type": "code",
   "execution_count": null,
   "metadata": {},
   "outputs": [],
   "source": [
    "p = sns.heatmap(corr_table,\n",
    "                xticklabels=corr_table.columns, yticklabels=corr_table.columns, # označíme osy názvami stĺpcov\n",
    "                vmin=-1, vmax=1, # nastavíme minimálnu a maximálnu hodnotu pre farebnú paletu\n",
    "                cmap='coolwarm', # zmeníme prednastavenú paletu farieb \n",
    "                square=True)     # zobrazia sa štvorcové polia"
   ]
  },
  {
   "cell_type": "markdown",
   "metadata": {},
   "source": [
    "Najväčšia závislosť je medzi atribútmi `GDP` a `Health`. Dáta si zobrazíme na X-Y grafe do ktorého zobrazíme aj regresnú priamku."
   ]
  },
  {
   "cell_type": "code",
   "execution_count": null,
   "metadata": {},
   "outputs": [],
   "source": [
    "p = sns.lmplot(data=factors, x='GDP', y='Health', fit_reg=True) "
   ]
  },
  {
   "cell_type": "markdown",
   "metadata": {},
   "source": [
    "Závislosť medzi všetkými číselnými atribútmi naraz si môžete prehľadne zobraziť grafom typu _pair plot_."
   ]
  },
  {
   "cell_type": "code",
   "execution_count": null,
   "metadata": {},
   "outputs": [],
   "source": [
    "p = sns.pairplot(factors)"
   ]
  },
  {
   "cell_type": "markdown",
   "metadata": {},
   "source": [
    "## Dátová množina - Iris\n",
    "\n",
    "Dátová množina **Iris** popisuje kvety kosatcov druhu Iris setosa, Iris virginica a Iris versicolor.\n",
    "Množinu zozbieral biológ Edgar Anderson a prvý krát ju použil pri dátovej analýze britský štatistik\n",
    "[Ronald Fisher](https://en.wikipedia.org/wiki/Ronald_Fisher) v roku 1936. Množina obsahuje 50 príkladov z každého druhu, ktoré sú popísané 4 atribútmi:\n",
    "dĺžkou a šírkou okvetných listov (`petal_width`, `petal_heaight`) a dĺžkov a šírkov listov kalicha (`sepal_width`, `sepal_height`).\n",
    "\n",
    "![Iris versicolor](iris.jpg)\n",
    "[Zdroj](https://en.wikipedia.org/wiki/Iris_versicolor)"
   ]
  },
  {
   "cell_type": "markdown",
   "metadata": {},
   "source": [
    "### Úloha 7.2\n",
    "\n",
    "1. Načítajte dáta z dátovej množiny Iris (súbor `../data/iris.csv`) do premennej `iris`.\n",
    "2. Vypočítajte základné štatistiky pre číselné atribúty.\n",
    "3. Pre nominálny atribút `species` zobrazte rôzne hodnoty a ich početnosti.\n",
    "4. Zistite, či dátová množina obsahuje chýbajúce hodnoty."
   ]
  },
  {
   "cell_type": "markdown",
   "metadata": {},
   "source": [
    "### Úloha 7.3\n",
    "\n",
    "Zobrazte graf _pair plot_ pre číselné atribúty. Viete z priebehu určiť, ktoré atribúty sú najviac korelované?"
   ]
  },
  {
   "cell_type": "markdown",
   "metadata": {},
   "source": [
    "### Úloha 7.4\n",
    "\n",
    "Vypočítajte korelačnú maticu a zobrazte ju pomocou teplotnej mapy. Určite, ktoré dva atribúty sú najviac a najmenej korelované a zobrazte ich X-Y priebeh spolu s regresnou priamkou."
   ]
  },
  {
   "cell_type": "markdown",
   "metadata": {},
   "source": [
    "### Úloha 7.5\n",
    "\n",
    "Pomocou kontingenčnej tabuľky vypočítajte priemernú hodnotu a štandardnú odchýlku pre atribúty `sepal_length` a `sepal_width` zoskupené podľa atribútu `species."
   ]
  },
  {
   "cell_type": "markdown",
   "metadata": {},
   "source": [
    "### Úloha 7.6\n",
    "\n",
    "1. Odfiltrujte z dátovej množiny iba riadky (príklady) patriace do triedy `virsinica`.\n",
    "2. Z odfiltrovaných riadkov vytvorte tabuľku s atribútmi `sepal_ratio = sepal_length / sepal_width` a `petal_ratio = petal_length / petal_width`.\n",
    "3. Zobrazte X-Y závislosť medzi `sepal_ratio` a `petal_ratio` a vypočítajte korelačný koeficient medzi nimi."
   ]
  },
  {
   "cell_type": "code",
   "execution_count": null,
   "metadata": {},
   "outputs": [],
   "source": []
  }
 ],
 "metadata": {
  "kernelspec": {
   "display_name": "Python 3",
   "language": "python",
   "name": "python3"
  },
  "language_info": {
   "codemirror_mode": {
    "name": "ipython",
    "version": 3
   },
   "file_extension": ".py",
   "mimetype": "text/x-python",
   "name": "python",
   "nbconvert_exporter": "python",
   "pygments_lexer": "ipython3",
   "version": "3.7.2"
  }
 },
 "nbformat": 4,
 "nbformat_minor": 2
}
