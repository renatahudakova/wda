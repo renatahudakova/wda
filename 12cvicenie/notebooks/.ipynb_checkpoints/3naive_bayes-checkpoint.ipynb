{
 "cells": [
  {
   "cell_type": "markdown",
   "metadata": {},
   "source": [
    "# Klasifikácia pomocou pravdepodobnostných modelov - Naive Bayes\n",
    "\n",
    "Pravdepodobnostný klasifikátor na báze Naive Bayes je v Scikit-learn implementovaný triedou `GaussianNB`. Metódu používame rovnakým spôsobom ako ostatné metódy. Navyše, Naive Bayes je neparametrická metóda, tzn. nenastavujeme žiadne parametre modelu (odpadá tuning modelu), jeho presnosť teda závisí na dátach a ich predspracovaní.\n",
    "\n",
    "V prípade Naive Bayes klasifikátora odstránime redundantné atribúty. Rovnako nie je potrebné robiť normalizáciu atribútov. "
   ]
  },
  {
   "cell_type": "code",
   "execution_count": 1,
   "metadata": {},
   "outputs": [
    {
     "data": {
      "text/html": [
       "<div>\n",
       "<style scoped>\n",
       "    .dataframe tbody tr th:only-of-type {\n",
       "        vertical-align: middle;\n",
       "    }\n",
       "\n",
       "    .dataframe tbody tr th {\n",
       "        vertical-align: top;\n",
       "    }\n",
       "\n",
       "    .dataframe thead th {\n",
       "        text-align: right;\n",
       "    }\n",
       "</style>\n",
       "<table border=\"1\" class=\"dataframe\">\n",
       "  <thead>\n",
       "    <tr style=\"text-align: right;\">\n",
       "      <th></th>\n",
       "      <th>pclass</th>\n",
       "      <th>survived</th>\n",
       "      <th>sex</th>\n",
       "      <th>age</th>\n",
       "      <th>sibsp</th>\n",
       "      <th>parch</th>\n",
       "      <th>fare</th>\n",
       "      <th>family</th>\n",
       "      <th>has_family</th>\n",
       "      <th>embarked_Cherbourg</th>\n",
       "      <th>embarked_Queenstown</th>\n",
       "      <th>embarked_Southampton</th>\n",
       "      <th>title_short_Miss</th>\n",
       "      <th>title_short_Mr</th>\n",
       "      <th>title_short_Mrs</th>\n",
       "      <th>title_short_rare title</th>\n",
       "    </tr>\n",
       "  </thead>\n",
       "  <tbody>\n",
       "    <tr>\n",
       "      <th>0</th>\n",
       "      <td>1</td>\n",
       "      <td>1</td>\n",
       "      <td>1</td>\n",
       "      <td>29.00</td>\n",
       "      <td>0</td>\n",
       "      <td>0</td>\n",
       "      <td>211.3375</td>\n",
       "      <td>0</td>\n",
       "      <td>0</td>\n",
       "      <td>0</td>\n",
       "      <td>0</td>\n",
       "      <td>1</td>\n",
       "      <td>1</td>\n",
       "      <td>0</td>\n",
       "      <td>0</td>\n",
       "      <td>0</td>\n",
       "    </tr>\n",
       "    <tr>\n",
       "      <th>1</th>\n",
       "      <td>1</td>\n",
       "      <td>1</td>\n",
       "      <td>0</td>\n",
       "      <td>0.92</td>\n",
       "      <td>1</td>\n",
       "      <td>2</td>\n",
       "      <td>151.5500</td>\n",
       "      <td>3</td>\n",
       "      <td>1</td>\n",
       "      <td>0</td>\n",
       "      <td>0</td>\n",
       "      <td>1</td>\n",
       "      <td>0</td>\n",
       "      <td>0</td>\n",
       "      <td>0</td>\n",
       "      <td>1</td>\n",
       "    </tr>\n",
       "    <tr>\n",
       "      <th>2</th>\n",
       "      <td>1</td>\n",
       "      <td>0</td>\n",
       "      <td>1</td>\n",
       "      <td>2.00</td>\n",
       "      <td>1</td>\n",
       "      <td>2</td>\n",
       "      <td>151.5500</td>\n",
       "      <td>3</td>\n",
       "      <td>1</td>\n",
       "      <td>0</td>\n",
       "      <td>0</td>\n",
       "      <td>1</td>\n",
       "      <td>1</td>\n",
       "      <td>0</td>\n",
       "      <td>0</td>\n",
       "      <td>0</td>\n",
       "    </tr>\n",
       "    <tr>\n",
       "      <th>3</th>\n",
       "      <td>1</td>\n",
       "      <td>0</td>\n",
       "      <td>0</td>\n",
       "      <td>30.00</td>\n",
       "      <td>1</td>\n",
       "      <td>2</td>\n",
       "      <td>151.5500</td>\n",
       "      <td>3</td>\n",
       "      <td>1</td>\n",
       "      <td>0</td>\n",
       "      <td>0</td>\n",
       "      <td>1</td>\n",
       "      <td>0</td>\n",
       "      <td>1</td>\n",
       "      <td>0</td>\n",
       "      <td>0</td>\n",
       "    </tr>\n",
       "    <tr>\n",
       "      <th>4</th>\n",
       "      <td>1</td>\n",
       "      <td>0</td>\n",
       "      <td>1</td>\n",
       "      <td>25.00</td>\n",
       "      <td>1</td>\n",
       "      <td>2</td>\n",
       "      <td>151.5500</td>\n",
       "      <td>3</td>\n",
       "      <td>1</td>\n",
       "      <td>0</td>\n",
       "      <td>0</td>\n",
       "      <td>1</td>\n",
       "      <td>0</td>\n",
       "      <td>0</td>\n",
       "      <td>1</td>\n",
       "      <td>0</td>\n",
       "    </tr>\n",
       "  </tbody>\n",
       "</table>\n",
       "</div>"
      ],
      "text/plain": [
       "   pclass  survived  sex    age  sibsp  parch      fare  family  has_family  \\\n",
       "0       1         1    1  29.00      0      0  211.3375       0           0   \n",
       "1       1         1    0   0.92      1      2  151.5500       3           1   \n",
       "2       1         0    1   2.00      1      2  151.5500       3           1   \n",
       "3       1         0    0  30.00      1      2  151.5500       3           1   \n",
       "4       1         0    1  25.00      1      2  151.5500       3           1   \n",
       "\n",
       "   embarked_Cherbourg  embarked_Queenstown  embarked_Southampton  \\\n",
       "0                   0                    0                     1   \n",
       "1                   0                    0                     1   \n",
       "2                   0                    0                     1   \n",
       "3                   0                    0                     1   \n",
       "4                   0                    0                     1   \n",
       "\n",
       "   title_short_Miss  title_short_Mr  title_short_Mrs  title_short_rare title  \n",
       "0                 1               0                0                       0  \n",
       "1                 0               0                0                       1  \n",
       "2                 1               0                0                       0  \n",
       "3                 0               1                0                       0  \n",
       "4                 0               0                1                       0  "
      ]
     },
     "execution_count": 1,
     "metadata": {},
     "output_type": "execute_result"
    }
   ],
   "source": [
    "# Titanic import a preprocessing\n",
    "\n",
    "import pandas as pd\n",
    "import numpy as np\n",
    "import matplotlib.pyplot as plt\n",
    "\n",
    "%matplotlib inline\n",
    "\n",
    "titanic = pd.read_csv(\"../data/titanic-processed.csv\")\n",
    "\n",
    "titanic = titanic.drop(columns=['cabin','ticket','title', 'deck', 'fare_ordinal', 'age_ordinal'])\n",
    "\n",
    "titanic['sex'] = titanic['sex'].map({\"male\": 0, \"female\": 1})\n",
    "titanic['has_family'] = titanic['has_family'].map({False: 0, True: 1})\n",
    "\n",
    "titanic = pd.get_dummies(titanic, columns=['embarked', 'title_short'])\n",
    "\n",
    "titanic.head()"
   ]
  },
  {
   "cell_type": "code",
   "execution_count": 2,
   "metadata": {},
   "outputs": [
    {
     "name": "stdout",
     "output_type": "stream",
     "text": [
      "(1309, 15)\n",
      "(1309,)\n"
     ]
    }
   ],
   "source": [
    "X_titanic = titanic.drop('survived', axis=1) # vytvoríme maticu príznakov - použijeme všetky stĺpce okrem cieľového atribútu a uložíme do X_titanic\n",
    "y_titanic = titanic['survived'] # vytvoríme vektor hodnôt cieľového atribútu ako stĺpec 'survived'\n",
    "\n",
    "print(X_titanic.shape) # pre kontrolu môžeme vypísať rozmery matice hodnôt a vektora cieľového atribútu\n",
    "print(y_titanic.shape)\n",
    "\n",
    "from sklearn.model_selection import train_test_split # importujeme funkciu train_test_split()\n",
    "X_train, X_test, y_train, y_test = train_test_split(X_titanic, y_titanic, test_size=0.3, random_state=1) # rozdelíme dataset do trénovacej a testovacej časti, tak že testovacia bude 30% z celkového datasetu"
   ]
  },
  {
   "cell_type": "markdown",
   "metadata": {},
   "source": [
    "#### Úloha 12.5.\n",
    "\n",
    "Vyskúšajte natrénovať model `GaussianBN()` na dátach Titanic. Keďže metóda nepoužíva žiadne vstupné parametre, vyskúšajte vplyv predspracovania a selekcie atribútov na presnosť modelu. Pri ako predspracovaných dátach ste dosiahli najlepšie výsledky?"
   ]
  },
  {
   "cell_type": "code",
   "execution_count": null,
   "metadata": {},
   "outputs": [],
   "source": []
  },
  {
   "cell_type": "raw",
   "metadata": {},
   "source": []
  },
  {
   "cell_type": "code",
   "execution_count": 4,
   "metadata": {},
   "outputs": [
    {
     "name": "stdout",
     "output_type": "stream",
     "text": [
      "[[197  39]\n",
      " [ 36 121]]\n"
     ]
    }
   ],
   "source": [
    "# YOUR CODE HERE\n",
    "from sklearn.naive_bayes import GaussianNB # importovanie knižnice\n",
    "from sklearn.metrics import confusion_matrix\n",
    "\n",
    "nb = GaussianNB()\n",
    "nb.fit(X_train, y_train)\n",
    "y_nb = nb.predict(X_test)\n",
    "\n",
    "print(confusion_matrix(y_test, y_nb))\n"
   ]
  },
  {
   "cell_type": "markdown",
   "metadata": {},
   "source": [
    "Naive Bayes patrí medzi tzv. pravdepodobnostné klasifikátory. To znamená, že okrem preikujúcej triedy sa vieme pozrieť na pravdepodobnosti príslušnosti testovaného príkladu do jednotlivých tried. "
   ]
  },
  {
   "cell_type": "code",
   "execution_count": 5,
   "metadata": {},
   "outputs": [],
   "source": [
    "prediction = nb.predict_proba(X_test[:1]) ##1 predstavuje hranicnu hodnotu, ked je potrebne davat pozor na klienta a pod. "
   ]
  },
  {
   "cell_type": "code",
   "execution_count": 6,
   "metadata": {},
   "outputs": [
    {
     "name": "stdout",
     "output_type": "stream",
     "text": [
      "[[0.98113192 0.01886808]]\n"
     ]
    }
   ],
   "source": [
    "print(prediction)"
   ]
  },
  {
   "cell_type": "code",
   "execution_count": 7,
   "metadata": {},
   "outputs": [],
   "source": []
  },
  {
   "cell_type": "code",
   "execution_count": null,
   "metadata": {},
   "outputs": [],
   "source": []
  },
  {
   "cell_type": "code",
   "execution_count": null,
   "metadata": {},
   "outputs": [],
   "source": []
  }
 ],
 "metadata": {
  "kernelspec": {
   "display_name": "Python 3",
   "language": "python",
   "name": "python3"
  },
  "language_info": {
   "codemirror_mode": {
    "name": "ipython",
    "version": 3
   },
   "file_extension": ".py",
   "mimetype": "text/x-python",
   "name": "python",
   "nbconvert_exporter": "python",
   "pygments_lexer": "ipython3",
   "version": "3.7.2"
  }
 },
 "nbformat": 4,
 "nbformat_minor": 2
}
