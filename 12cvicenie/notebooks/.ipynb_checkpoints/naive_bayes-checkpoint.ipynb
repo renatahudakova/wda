{
 "cells": [
  {
   "cell_type": "markdown",
   "metadata": {},
   "source": [
    "# Klasifikácia pomocou pravdepodobnostných modelov - Naive Bayes\n",
    "\n",
    "Pravdepodobnostný klasifikátor na báze Naive Bayes je v Scikit-learn implementovaný triedou `GaussianNB`. Metódu používame rovnakým spôsobom ako ostatné metódy. Navyše, Naive Bayes je neparametrická metóda, tzn. nenastavujeme žiadne parametre modelu (odpadá tuning modelu), jeho presnosť teda závisí na dátach a ich predspracovaní.\n",
    "\n",
    "V prípade Naive Bayes klasifikátora odstránime redundantné atribúty. Rovnako nie je potrebné robiť normalizáciu atribútov. "
   ]
  },
  {
   "cell_type": "code",
   "execution_count": null,
   "metadata": {},
   "outputs": [],
   "source": [
    "# Titanic import a preprocessing\n",
    "\n",
    "import pandas as pd\n",
    "import numpy as np\n",
    "import matplotlib.pyplot as plt\n",
    "\n",
    "%matplotlib inline\n",
    "\n",
    "titanic = pd.read_csv(\"../data/titanic-processed.csv\")\n",
    "\n",
    "titanic = titanic.drop(columns=['cabin','ticket','title', 'deck', 'fare_ordinal', 'age_ordinal'])\n",
    "\n",
    "titanic['sex'] = titanic['sex'].map({\"male\": 0, \"female\": 1})\n",
    "titanic['has_family'] = titanic['has_family'].map({False: 0, True: 1})\n",
    "\n",
    "titanic = pd.get_dummies(titanic, columns=['embarked', 'title_short'])\n",
    "\n",
    "titanic.head()"
   ]
  },
  {
   "cell_type": "code",
   "execution_count": null,
   "metadata": {},
   "outputs": [],
   "source": [
    "X_titanic = titanic.drop('survived', axis=1) # vytvoríme maticu príznakov - použijeme všetky stĺpce okrem cieľového atribútu a uložíme do X_titanic\n",
    "y_titanic = titanic['survived'] # vytvoríme vektor hodnôt cieľového atribútu ako stĺpec 'survived'\n",
    "\n",
    "print(X_titanic.shape) # pre kontrolu môžeme vypísať rozmery matice hodnôt a vektora cieľového atribútu\n",
    "print(y_titanic.shape)\n",
    "\n",
    "from sklearn.model_selection import train_test_split # importujeme funkciu train_test_split()\n",
    "X_train, X_test, y_train, y_test = train_test_split(X_titanic, y_titanic, test_size=0.3, random_state=1) # rozdelíme dataset do trénovacej a testovacej časti, tak že testovacia bude 30% z celkového datasetu"
   ]
  },
  {
   "cell_type": "markdown",
   "metadata": {},
   "source": [
    "#### Úloha 12.5.\n",
    "\n",
    "Vyskúšajte natrénovať model `GaussianBN()` na dátach Titanic. Keďže metóda nepoužíva žiadne vstupné parametre, vyskúšajte vplyv predspracovania a selekcie atribútov na presnosť modelu. Pri ako predspracovaných dátach ste dosiahli najlepšie výsledky?"
   ]
  },
  {
   "cell_type": "code",
   "execution_count": null,
   "metadata": {},
   "outputs": [],
   "source": [
    "from sklearn.naive_bayes import GaussianNB # importovanie knižnice\n",
    "\n",
    "# YOUR CODE HERE"
   ]
  },
  {
   "cell_type": "markdown",
   "metadata": {},
   "source": [
    "Naive Bayes patrí medzi tzv. pravdepodobnostné klasifikátory. To znamená, že okrem preikujúcej triedy sa vieme pozrieť na pravdepodobnosti príslušnosti testovaného príkladu do jednotlivých tried. "
   ]
  },
  {
   "cell_type": "code",
   "execution_count": null,
   "metadata": {},
   "outputs": [],
   "source": [
    "prediction = nb.predict_proba(X_test[:1])"
   ]
  },
  {
   "cell_type": "code",
   "execution_count": null,
   "metadata": {},
   "outputs": [],
   "source": [
    "print(prediction)"
   ]
  },
  {
   "cell_type": "code",
   "execution_count": null,
   "metadata": {},
   "outputs": [],
   "source": []
  },
  {
   "cell_type": "code",
   "execution_count": null,
   "metadata": {},
   "outputs": [],
   "source": []
  }
 ],
 "metadata": {
  "kernelspec": {
   "display_name": "Python 3",
   "language": "python",
   "name": "python3"
  },
  "language_info": {
   "codemirror_mode": {
    "name": "ipython",
    "version": 3
   },
   "file_extension": ".py",
   "mimetype": "text/x-python",
   "name": "python",
   "nbconvert_exporter": "python",
   "pygments_lexer": "ipython3",
   "version": "3.7.1"
  }
 },
 "nbformat": 4,
 "nbformat_minor": 2
}
